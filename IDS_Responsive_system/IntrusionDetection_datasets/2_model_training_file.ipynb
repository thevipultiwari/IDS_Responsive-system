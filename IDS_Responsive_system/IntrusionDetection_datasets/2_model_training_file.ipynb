{
 "cells": [
  {
   "cell_type": "markdown",
   "id": "768048e9",
   "metadata": {},
   "source": [
    "<h2 style=\"font-family:san-serif;font-size:30px;color:green;font-weight:bold;text-align:right\">Libraries Importing</h2>"
   ]
  },
  {
   "cell_type": "code",
   "execution_count": 1,
   "id": "26710716",
   "metadata": {},
   "outputs": [
    {
     "name": "stdout",
     "output_type": "stream",
     "text": [
      "splitted_data\\X_test.csv\n",
      "splitted_data\\X_train.csv\n",
      "splitted_data\\y_test.csv\n",
      "splitted_data\\y_train.csv\n"
     ]
    }
   ],
   "source": [
    "import warnings\n",
    "warnings.filterwarnings('ignore')\n",
    "\n",
    "import pandas as pd\n",
    "pd.set_option('display.max_columns',None)\n",
    "import numpy as np\n",
    "import matplotlib.pyplot as plt\n",
    "%matplotlib inline\n",
    "import seaborn as sns\n",
    "from sklearn.metrics import accuracy_score,classification_report,confusion_matrix\n",
    "\n",
    "import os\n",
    "for dirname,_,filenames in os.walk('splitted_data'):\n",
    "    for filename in filenames:\n",
    "        print(os.path.join(dirname,filename))"
   ]
  },
  {
   "cell_type": "markdown",
   "id": "df46d1b7",
   "metadata": {},
   "source": [
    "<h2 style=\"font-family:san-serif;font-size:30px;color:green;font-weight:bold;text-align:right\">Data Loading</h2>"
   ]
  },
  {
   "cell_type": "code",
   "execution_count": 2,
   "id": "61bc0b0b",
   "metadata": {},
   "outputs": [
    {
     "name": "stdout",
     "output_type": "stream",
     "text": [
      "(20000, 41) (5000, 41) (20000, 1) (5000, 1)\n"
     ]
    }
   ],
   "source": [
    "X_train=pd.read_csv('splitted_data/X_train.csv')\n",
    "X_test=pd.read_csv('splitted_data/X_test.csv')\n",
    "y_train=pd.read_csv('splitted_data/y_train.csv')\n",
    "y_test=pd.read_csv('splitted_data/y_test.csv')\n",
    "\n",
    "print(X_train.shape,X_test.shape,y_train.shape,y_test.shape)"
   ]
  },
  {
   "cell_type": "code",
   "execution_count": 3,
   "id": "ab96048f",
   "metadata": {},
   "outputs": [
    {
     "data": {
      "text/html": [
       "<div>\n",
       "<style scoped>\n",
       "    .dataframe tbody tr th:only-of-type {\n",
       "        vertical-align: middle;\n",
       "    }\n",
       "\n",
       "    .dataframe tbody tr th {\n",
       "        vertical-align: top;\n",
       "    }\n",
       "\n",
       "    .dataframe thead th {\n",
       "        text-align: right;\n",
       "    }\n",
       "</style>\n",
       "<table border=\"1\" class=\"dataframe\">\n",
       "  <thead>\n",
       "    <tr style=\"text-align: right;\">\n",
       "      <th></th>\n",
       "      <th>duration</th>\n",
       "      <th>protocol_type</th>\n",
       "      <th>service</th>\n",
       "      <th>flag</th>\n",
       "      <th>src_bytes</th>\n",
       "      <th>dst_bytes</th>\n",
       "      <th>land</th>\n",
       "      <th>wrong_fragment</th>\n",
       "      <th>urgent</th>\n",
       "      <th>hot</th>\n",
       "      <th>num_failed_logins</th>\n",
       "      <th>logged_in</th>\n",
       "      <th>num_compromised</th>\n",
       "      <th>root_shell</th>\n",
       "      <th>su_attempted</th>\n",
       "      <th>num_root</th>\n",
       "      <th>num_file_creations</th>\n",
       "      <th>num_shells</th>\n",
       "      <th>num_access_files</th>\n",
       "      <th>num_outbound_cmds</th>\n",
       "      <th>is_host_login</th>\n",
       "      <th>is_guest_login</th>\n",
       "      <th>count</th>\n",
       "      <th>srv_count</th>\n",
       "      <th>serror_rate</th>\n",
       "      <th>srv_serror_rate</th>\n",
       "      <th>rerror_rate</th>\n",
       "      <th>srv_rerror_rate</th>\n",
       "      <th>same_srv_rate</th>\n",
       "      <th>diff_srv_rate</th>\n",
       "      <th>srv_diff_host_rate</th>\n",
       "      <th>dst_host_count</th>\n",
       "      <th>dst_host_srv_count</th>\n",
       "      <th>dst_host_same_srv_rate</th>\n",
       "      <th>dst_host_diff_srv_rate</th>\n",
       "      <th>dst_host_same_src_port_rate</th>\n",
       "      <th>dst_host_srv_diff_host_rate</th>\n",
       "      <th>dst_host_serror_rate</th>\n",
       "      <th>dst_host_srv_serror_rate</th>\n",
       "      <th>dst_host_rerror_rate</th>\n",
       "      <th>dst_host_srv_rerror_rate</th>\n",
       "    </tr>\n",
       "  </thead>\n",
       "  <tbody>\n",
       "    <tr>\n",
       "      <th>0</th>\n",
       "      <td>0.0</td>\n",
       "      <td>0.0</td>\n",
       "      <td>0.347826</td>\n",
       "      <td>0.1</td>\n",
       "      <td>7.865866e-05</td>\n",
       "      <td>0.000021</td>\n",
       "      <td>0.0</td>\n",
       "      <td>0.0</td>\n",
       "      <td>0.0</td>\n",
       "      <td>0.066667</td>\n",
       "      <td>0.0</td>\n",
       "      <td>1.0</td>\n",
       "      <td>0.000959</td>\n",
       "      <td>0.0</td>\n",
       "      <td>0.0</td>\n",
       "      <td>0.0</td>\n",
       "      <td>0.0</td>\n",
       "      <td>0.0</td>\n",
       "      <td>0.0</td>\n",
       "      <td>0.0</td>\n",
       "      <td>0.0</td>\n",
       "      <td>0.0</td>\n",
       "      <td>0.005871</td>\n",
       "      <td>0.005871</td>\n",
       "      <td>0.0</td>\n",
       "      <td>0.0</td>\n",
       "      <td>0.0</td>\n",
       "      <td>0.0</td>\n",
       "      <td>1.00</td>\n",
       "      <td>0.00</td>\n",
       "      <td>0.0</td>\n",
       "      <td>0.200787</td>\n",
       "      <td>0.200787</td>\n",
       "      <td>1.00</td>\n",
       "      <td>0.00</td>\n",
       "      <td>0.02</td>\n",
       "      <td>0.00</td>\n",
       "      <td>0.02</td>\n",
       "      <td>0.02</td>\n",
       "      <td>0.02</td>\n",
       "      <td>0.02</td>\n",
       "    </tr>\n",
       "    <tr>\n",
       "      <th>1</th>\n",
       "      <td>0.0</td>\n",
       "      <td>0.0</td>\n",
       "      <td>0.710145</td>\n",
       "      <td>0.4</td>\n",
       "      <td>0.000000e+00</td>\n",
       "      <td>0.000000</td>\n",
       "      <td>0.0</td>\n",
       "      <td>0.0</td>\n",
       "      <td>0.0</td>\n",
       "      <td>0.000000</td>\n",
       "      <td>0.0</td>\n",
       "      <td>0.0</td>\n",
       "      <td>0.000000</td>\n",
       "      <td>0.0</td>\n",
       "      <td>0.0</td>\n",
       "      <td>0.0</td>\n",
       "      <td>0.0</td>\n",
       "      <td>0.0</td>\n",
       "      <td>0.0</td>\n",
       "      <td>0.0</td>\n",
       "      <td>0.0</td>\n",
       "      <td>0.0</td>\n",
       "      <td>0.001957</td>\n",
       "      <td>0.001957</td>\n",
       "      <td>0.0</td>\n",
       "      <td>0.0</td>\n",
       "      <td>1.0</td>\n",
       "      <td>1.0</td>\n",
       "      <td>1.00</td>\n",
       "      <td>0.00</td>\n",
       "      <td>0.0</td>\n",
       "      <td>0.897638</td>\n",
       "      <td>0.000000</td>\n",
       "      <td>0.00</td>\n",
       "      <td>0.57</td>\n",
       "      <td>0.57</td>\n",
       "      <td>0.00</td>\n",
       "      <td>0.00</td>\n",
       "      <td>0.00</td>\n",
       "      <td>0.57</td>\n",
       "      <td>1.00</td>\n",
       "    </tr>\n",
       "    <tr>\n",
       "      <th>2</th>\n",
       "      <td>0.0</td>\n",
       "      <td>1.0</td>\n",
       "      <td>0.202899</td>\n",
       "      <td>0.1</td>\n",
       "      <td>1.153776e-08</td>\n",
       "      <td>0.000000</td>\n",
       "      <td>0.0</td>\n",
       "      <td>0.0</td>\n",
       "      <td>0.0</td>\n",
       "      <td>0.000000</td>\n",
       "      <td>0.0</td>\n",
       "      <td>0.0</td>\n",
       "      <td>0.000000</td>\n",
       "      <td>0.0</td>\n",
       "      <td>0.0</td>\n",
       "      <td>0.0</td>\n",
       "      <td>0.0</td>\n",
       "      <td>0.0</td>\n",
       "      <td>0.0</td>\n",
       "      <td>0.0</td>\n",
       "      <td>0.0</td>\n",
       "      <td>0.0</td>\n",
       "      <td>0.001957</td>\n",
       "      <td>0.041096</td>\n",
       "      <td>0.0</td>\n",
       "      <td>0.0</td>\n",
       "      <td>0.0</td>\n",
       "      <td>0.0</td>\n",
       "      <td>1.00</td>\n",
       "      <td>0.00</td>\n",
       "      <td>1.0</td>\n",
       "      <td>0.003937</td>\n",
       "      <td>0.086614</td>\n",
       "      <td>1.00</td>\n",
       "      <td>0.00</td>\n",
       "      <td>1.00</td>\n",
       "      <td>0.52</td>\n",
       "      <td>0.00</td>\n",
       "      <td>0.00</td>\n",
       "      <td>0.00</td>\n",
       "      <td>0.00</td>\n",
       "    </tr>\n",
       "    <tr>\n",
       "      <th>3</th>\n",
       "      <td>0.0</td>\n",
       "      <td>0.5</td>\n",
       "      <td>0.710145</td>\n",
       "      <td>0.1</td>\n",
       "      <td>3.100772e-07</td>\n",
       "      <td>0.000000</td>\n",
       "      <td>0.0</td>\n",
       "      <td>0.0</td>\n",
       "      <td>0.0</td>\n",
       "      <td>0.000000</td>\n",
       "      <td>0.0</td>\n",
       "      <td>0.0</td>\n",
       "      <td>0.000000</td>\n",
       "      <td>0.0</td>\n",
       "      <td>0.0</td>\n",
       "      <td>0.0</td>\n",
       "      <td>0.0</td>\n",
       "      <td>0.0</td>\n",
       "      <td>0.0</td>\n",
       "      <td>0.0</td>\n",
       "      <td>0.0</td>\n",
       "      <td>0.0</td>\n",
       "      <td>0.001957</td>\n",
       "      <td>0.001957</td>\n",
       "      <td>0.0</td>\n",
       "      <td>0.0</td>\n",
       "      <td>0.0</td>\n",
       "      <td>0.0</td>\n",
       "      <td>1.00</td>\n",
       "      <td>0.00</td>\n",
       "      <td>0.0</td>\n",
       "      <td>0.086614</td>\n",
       "      <td>0.086614</td>\n",
       "      <td>1.00</td>\n",
       "      <td>0.00</td>\n",
       "      <td>1.00</td>\n",
       "      <td>0.00</td>\n",
       "      <td>0.00</td>\n",
       "      <td>0.00</td>\n",
       "      <td>0.00</td>\n",
       "      <td>0.00</td>\n",
       "    </tr>\n",
       "    <tr>\n",
       "      <th>4</th>\n",
       "      <td>0.0</td>\n",
       "      <td>0.0</td>\n",
       "      <td>0.478261</td>\n",
       "      <td>0.3</td>\n",
       "      <td>0.000000e+00</td>\n",
       "      <td>0.000000</td>\n",
       "      <td>0.0</td>\n",
       "      <td>0.0</td>\n",
       "      <td>0.0</td>\n",
       "      <td>0.000000</td>\n",
       "      <td>0.0</td>\n",
       "      <td>0.0</td>\n",
       "      <td>0.000000</td>\n",
       "      <td>0.0</td>\n",
       "      <td>0.0</td>\n",
       "      <td>0.0</td>\n",
       "      <td>0.0</td>\n",
       "      <td>0.0</td>\n",
       "      <td>0.0</td>\n",
       "      <td>0.0</td>\n",
       "      <td>0.0</td>\n",
       "      <td>0.0</td>\n",
       "      <td>0.508806</td>\n",
       "      <td>0.003914</td>\n",
       "      <td>1.0</td>\n",
       "      <td>1.0</td>\n",
       "      <td>0.0</td>\n",
       "      <td>0.0</td>\n",
       "      <td>0.01</td>\n",
       "      <td>0.07</td>\n",
       "      <td>0.0</td>\n",
       "      <td>1.000000</td>\n",
       "      <td>0.003937</td>\n",
       "      <td>0.01</td>\n",
       "      <td>0.07</td>\n",
       "      <td>0.00</td>\n",
       "      <td>0.00</td>\n",
       "      <td>1.00</td>\n",
       "      <td>1.00</td>\n",
       "      <td>0.00</td>\n",
       "      <td>0.00</td>\n",
       "    </tr>\n",
       "  </tbody>\n",
       "</table>\n",
       "</div>"
      ],
      "text/plain": [
       "   duration  protocol_type   service  flag     src_bytes  dst_bytes  land  \\\n",
       "0       0.0            0.0  0.347826   0.1  7.865866e-05   0.000021   0.0   \n",
       "1       0.0            0.0  0.710145   0.4  0.000000e+00   0.000000   0.0   \n",
       "2       0.0            1.0  0.202899   0.1  1.153776e-08   0.000000   0.0   \n",
       "3       0.0            0.5  0.710145   0.1  3.100772e-07   0.000000   0.0   \n",
       "4       0.0            0.0  0.478261   0.3  0.000000e+00   0.000000   0.0   \n",
       "\n",
       "   wrong_fragment  urgent       hot  num_failed_logins  logged_in  \\\n",
       "0             0.0     0.0  0.066667                0.0        1.0   \n",
       "1             0.0     0.0  0.000000                0.0        0.0   \n",
       "2             0.0     0.0  0.000000                0.0        0.0   \n",
       "3             0.0     0.0  0.000000                0.0        0.0   \n",
       "4             0.0     0.0  0.000000                0.0        0.0   \n",
       "\n",
       "   num_compromised  root_shell  su_attempted  num_root  num_file_creations  \\\n",
       "0         0.000959         0.0           0.0       0.0                 0.0   \n",
       "1         0.000000         0.0           0.0       0.0                 0.0   \n",
       "2         0.000000         0.0           0.0       0.0                 0.0   \n",
       "3         0.000000         0.0           0.0       0.0                 0.0   \n",
       "4         0.000000         0.0           0.0       0.0                 0.0   \n",
       "\n",
       "   num_shells  num_access_files  num_outbound_cmds  is_host_login  \\\n",
       "0         0.0               0.0                0.0            0.0   \n",
       "1         0.0               0.0                0.0            0.0   \n",
       "2         0.0               0.0                0.0            0.0   \n",
       "3         0.0               0.0                0.0            0.0   \n",
       "4         0.0               0.0                0.0            0.0   \n",
       "\n",
       "   is_guest_login     count  srv_count  serror_rate  srv_serror_rate  \\\n",
       "0             0.0  0.005871   0.005871          0.0              0.0   \n",
       "1             0.0  0.001957   0.001957          0.0              0.0   \n",
       "2             0.0  0.001957   0.041096          0.0              0.0   \n",
       "3             0.0  0.001957   0.001957          0.0              0.0   \n",
       "4             0.0  0.508806   0.003914          1.0              1.0   \n",
       "\n",
       "   rerror_rate  srv_rerror_rate  same_srv_rate  diff_srv_rate  \\\n",
       "0          0.0              0.0           1.00           0.00   \n",
       "1          1.0              1.0           1.00           0.00   \n",
       "2          0.0              0.0           1.00           0.00   \n",
       "3          0.0              0.0           1.00           0.00   \n",
       "4          0.0              0.0           0.01           0.07   \n",
       "\n",
       "   srv_diff_host_rate  dst_host_count  dst_host_srv_count  \\\n",
       "0                 0.0        0.200787            0.200787   \n",
       "1                 0.0        0.897638            0.000000   \n",
       "2                 1.0        0.003937            0.086614   \n",
       "3                 0.0        0.086614            0.086614   \n",
       "4                 0.0        1.000000            0.003937   \n",
       "\n",
       "   dst_host_same_srv_rate  dst_host_diff_srv_rate  \\\n",
       "0                    1.00                    0.00   \n",
       "1                    0.00                    0.57   \n",
       "2                    1.00                    0.00   \n",
       "3                    1.00                    0.00   \n",
       "4                    0.01                    0.07   \n",
       "\n",
       "   dst_host_same_src_port_rate  dst_host_srv_diff_host_rate  \\\n",
       "0                         0.02                         0.00   \n",
       "1                         0.57                         0.00   \n",
       "2                         1.00                         0.52   \n",
       "3                         1.00                         0.00   \n",
       "4                         0.00                         0.00   \n",
       "\n",
       "   dst_host_serror_rate  dst_host_srv_serror_rate  dst_host_rerror_rate  \\\n",
       "0                  0.02                      0.02                  0.02   \n",
       "1                  0.00                      0.00                  0.57   \n",
       "2                  0.00                      0.00                  0.00   \n",
       "3                  0.00                      0.00                  0.00   \n",
       "4                  1.00                      1.00                  0.00   \n",
       "\n",
       "   dst_host_srv_rerror_rate  \n",
       "0                      0.02  \n",
       "1                      1.00  \n",
       "2                      0.00  \n",
       "3                      0.00  \n",
       "4                      0.00  "
      ]
     },
     "execution_count": 3,
     "metadata": {},
     "output_type": "execute_result"
    }
   ],
   "source": [
    "X_train.head()"
   ]
  },
  {
   "cell_type": "code",
   "execution_count": 4,
   "id": "4c3db155",
   "metadata": {},
   "outputs": [
    {
     "data": {
      "text/html": [
       "<div>\n",
       "<style scoped>\n",
       "    .dataframe tbody tr th:only-of-type {\n",
       "        vertical-align: middle;\n",
       "    }\n",
       "\n",
       "    .dataframe tbody tr th {\n",
       "        vertical-align: top;\n",
       "    }\n",
       "\n",
       "    .dataframe thead th {\n",
       "        text-align: right;\n",
       "    }\n",
       "</style>\n",
       "<table border=\"1\" class=\"dataframe\">\n",
       "  <thead>\n",
       "    <tr style=\"text-align: right;\">\n",
       "      <th></th>\n",
       "      <th>xAttack</th>\n",
       "    </tr>\n",
       "  </thead>\n",
       "  <tbody>\n",
       "    <tr>\n",
       "      <th>0</th>\n",
       "      <td>1</td>\n",
       "    </tr>\n",
       "    <tr>\n",
       "      <th>1</th>\n",
       "      <td>3</td>\n",
       "    </tr>\n",
       "    <tr>\n",
       "      <th>2</th>\n",
       "      <td>3</td>\n",
       "    </tr>\n",
       "    <tr>\n",
       "      <th>3</th>\n",
       "      <td>3</td>\n",
       "    </tr>\n",
       "    <tr>\n",
       "      <th>4</th>\n",
       "      <td>1</td>\n",
       "    </tr>\n",
       "  </tbody>\n",
       "</table>\n",
       "</div>"
      ],
      "text/plain": [
       "   xAttack\n",
       "0        1\n",
       "1        3\n",
       "2        3\n",
       "3        3\n",
       "4        1"
      ]
     },
     "execution_count": 4,
     "metadata": {},
     "output_type": "execute_result"
    }
   ],
   "source": [
    "y_train.head()"
   ]
  },
  {
   "cell_type": "code",
   "execution_count": 5,
   "id": "950c0b36",
   "metadata": {},
   "outputs": [
    {
     "data": {
      "text/html": [
       "<div>\n",
       "<style scoped>\n",
       "    .dataframe tbody tr th:only-of-type {\n",
       "        vertical-align: middle;\n",
       "    }\n",
       "\n",
       "    .dataframe tbody tr th {\n",
       "        vertical-align: top;\n",
       "    }\n",
       "\n",
       "    .dataframe thead th {\n",
       "        text-align: right;\n",
       "    }\n",
       "</style>\n",
       "<table border=\"1\" class=\"dataframe\">\n",
       "  <thead>\n",
       "    <tr style=\"text-align: right;\">\n",
       "      <th></th>\n",
       "      <th>duration</th>\n",
       "      <th>protocol_type</th>\n",
       "      <th>service</th>\n",
       "      <th>flag</th>\n",
       "      <th>src_bytes</th>\n",
       "      <th>dst_bytes</th>\n",
       "      <th>land</th>\n",
       "      <th>wrong_fragment</th>\n",
       "      <th>urgent</th>\n",
       "      <th>hot</th>\n",
       "      <th>num_failed_logins</th>\n",
       "      <th>logged_in</th>\n",
       "      <th>num_compromised</th>\n",
       "      <th>root_shell</th>\n",
       "      <th>su_attempted</th>\n",
       "      <th>num_root</th>\n",
       "      <th>num_file_creations</th>\n",
       "      <th>num_shells</th>\n",
       "      <th>num_access_files</th>\n",
       "      <th>num_outbound_cmds</th>\n",
       "      <th>is_host_login</th>\n",
       "      <th>is_guest_login</th>\n",
       "      <th>count</th>\n",
       "      <th>srv_count</th>\n",
       "      <th>serror_rate</th>\n",
       "      <th>srv_serror_rate</th>\n",
       "      <th>rerror_rate</th>\n",
       "      <th>srv_rerror_rate</th>\n",
       "      <th>same_srv_rate</th>\n",
       "      <th>diff_srv_rate</th>\n",
       "      <th>srv_diff_host_rate</th>\n",
       "      <th>dst_host_count</th>\n",
       "      <th>dst_host_srv_count</th>\n",
       "      <th>dst_host_same_srv_rate</th>\n",
       "      <th>dst_host_diff_srv_rate</th>\n",
       "      <th>dst_host_same_src_port_rate</th>\n",
       "      <th>dst_host_srv_diff_host_rate</th>\n",
       "      <th>dst_host_serror_rate</th>\n",
       "      <th>dst_host_srv_serror_rate</th>\n",
       "      <th>dst_host_rerror_rate</th>\n",
       "      <th>dst_host_srv_rerror_rate</th>\n",
       "    </tr>\n",
       "  </thead>\n",
       "  <tbody>\n",
       "    <tr>\n",
       "      <th>0</th>\n",
       "      <td>0.000000</td>\n",
       "      <td>0.0</td>\n",
       "      <td>0.275362</td>\n",
       "      <td>0.1</td>\n",
       "      <td>4.817014e-07</td>\n",
       "      <td>0.000000</td>\n",
       "      <td>0.0</td>\n",
       "      <td>0.0</td>\n",
       "      <td>0.0</td>\n",
       "      <td>0.0</td>\n",
       "      <td>0.0</td>\n",
       "      <td>1.0</td>\n",
       "      <td>0.000000</td>\n",
       "      <td>0.0</td>\n",
       "      <td>0.0</td>\n",
       "      <td>0.000000</td>\n",
       "      <td>0.000000</td>\n",
       "      <td>0.0</td>\n",
       "      <td>0.0</td>\n",
       "      <td>0.0</td>\n",
       "      <td>0.0</td>\n",
       "      <td>0.0</td>\n",
       "      <td>0.001957</td>\n",
       "      <td>0.001957</td>\n",
       "      <td>0.00</td>\n",
       "      <td>0.0</td>\n",
       "      <td>0.00</td>\n",
       "      <td>0.0</td>\n",
       "      <td>1.00</td>\n",
       "      <td>0.00</td>\n",
       "      <td>0.0</td>\n",
       "      <td>0.015748</td>\n",
       "      <td>0.153543</td>\n",
       "      <td>1.00</td>\n",
       "      <td>0.00</td>\n",
       "      <td>1.00</td>\n",
       "      <td>0.15</td>\n",
       "      <td>0.00</td>\n",
       "      <td>0.0</td>\n",
       "      <td>0.00</td>\n",
       "      <td>0.0</td>\n",
       "    </tr>\n",
       "    <tr>\n",
       "      <th>1</th>\n",
       "      <td>0.000000</td>\n",
       "      <td>0.0</td>\n",
       "      <td>0.710145</td>\n",
       "      <td>0.0</td>\n",
       "      <td>0.000000e+00</td>\n",
       "      <td>0.000000</td>\n",
       "      <td>0.0</td>\n",
       "      <td>0.0</td>\n",
       "      <td>0.0</td>\n",
       "      <td>0.0</td>\n",
       "      <td>0.0</td>\n",
       "      <td>0.0</td>\n",
       "      <td>0.000000</td>\n",
       "      <td>0.0</td>\n",
       "      <td>0.0</td>\n",
       "      <td>0.000000</td>\n",
       "      <td>0.000000</td>\n",
       "      <td>0.0</td>\n",
       "      <td>0.0</td>\n",
       "      <td>0.0</td>\n",
       "      <td>0.0</td>\n",
       "      <td>0.0</td>\n",
       "      <td>0.996086</td>\n",
       "      <td>0.001957</td>\n",
       "      <td>0.04</td>\n",
       "      <td>0.0</td>\n",
       "      <td>0.95</td>\n",
       "      <td>1.0</td>\n",
       "      <td>0.00</td>\n",
       "      <td>1.00</td>\n",
       "      <td>0.0</td>\n",
       "      <td>1.000000</td>\n",
       "      <td>0.000000</td>\n",
       "      <td>0.00</td>\n",
       "      <td>1.00</td>\n",
       "      <td>0.00</td>\n",
       "      <td>0.00</td>\n",
       "      <td>0.03</td>\n",
       "      <td>0.0</td>\n",
       "      <td>0.95</td>\n",
       "      <td>1.0</td>\n",
       "    </tr>\n",
       "    <tr>\n",
       "      <th>2</th>\n",
       "      <td>0.006759</td>\n",
       "      <td>0.0</td>\n",
       "      <td>0.869565</td>\n",
       "      <td>0.1</td>\n",
       "      <td>5.985212e-07</td>\n",
       "      <td>0.000176</td>\n",
       "      <td>0.0</td>\n",
       "      <td>0.0</td>\n",
       "      <td>0.0</td>\n",
       "      <td>0.1</td>\n",
       "      <td>0.0</td>\n",
       "      <td>1.0</td>\n",
       "      <td>0.003835</td>\n",
       "      <td>0.0</td>\n",
       "      <td>0.0</td>\n",
       "      <td>0.003828</td>\n",
       "      <td>0.190476</td>\n",
       "      <td>0.0</td>\n",
       "      <td>0.0</td>\n",
       "      <td>0.0</td>\n",
       "      <td>0.0</td>\n",
       "      <td>0.0</td>\n",
       "      <td>0.001957</td>\n",
       "      <td>0.001957</td>\n",
       "      <td>0.00</td>\n",
       "      <td>0.0</td>\n",
       "      <td>0.00</td>\n",
       "      <td>0.0</td>\n",
       "      <td>1.00</td>\n",
       "      <td>0.00</td>\n",
       "      <td>0.0</td>\n",
       "      <td>0.000000</td>\n",
       "      <td>0.000000</td>\n",
       "      <td>1.00</td>\n",
       "      <td>0.00</td>\n",
       "      <td>1.00</td>\n",
       "      <td>0.00</td>\n",
       "      <td>0.00</td>\n",
       "      <td>0.0</td>\n",
       "      <td>0.00</td>\n",
       "      <td>0.0</td>\n",
       "    </tr>\n",
       "    <tr>\n",
       "      <th>3</th>\n",
       "      <td>0.000186</td>\n",
       "      <td>0.0</td>\n",
       "      <td>0.710145</td>\n",
       "      <td>0.4</td>\n",
       "      <td>0.000000e+00</td>\n",
       "      <td>0.000000</td>\n",
       "      <td>0.0</td>\n",
       "      <td>0.0</td>\n",
       "      <td>0.0</td>\n",
       "      <td>0.0</td>\n",
       "      <td>0.0</td>\n",
       "      <td>0.0</td>\n",
       "      <td>0.000000</td>\n",
       "      <td>0.0</td>\n",
       "      <td>0.0</td>\n",
       "      <td>0.000000</td>\n",
       "      <td>0.000000</td>\n",
       "      <td>0.0</td>\n",
       "      <td>0.0</td>\n",
       "      <td>0.0</td>\n",
       "      <td>0.0</td>\n",
       "      <td>0.0</td>\n",
       "      <td>0.001957</td>\n",
       "      <td>0.001957</td>\n",
       "      <td>0.00</td>\n",
       "      <td>0.0</td>\n",
       "      <td>1.00</td>\n",
       "      <td>1.0</td>\n",
       "      <td>1.00</td>\n",
       "      <td>0.00</td>\n",
       "      <td>0.0</td>\n",
       "      <td>0.645669</td>\n",
       "      <td>0.000000</td>\n",
       "      <td>0.01</td>\n",
       "      <td>0.71</td>\n",
       "      <td>0.71</td>\n",
       "      <td>0.00</td>\n",
       "      <td>0.04</td>\n",
       "      <td>0.0</td>\n",
       "      <td>0.62</td>\n",
       "      <td>1.0</td>\n",
       "    </tr>\n",
       "    <tr>\n",
       "      <th>4</th>\n",
       "      <td>0.000000</td>\n",
       "      <td>0.0</td>\n",
       "      <td>0.826087</td>\n",
       "      <td>0.3</td>\n",
       "      <td>0.000000e+00</td>\n",
       "      <td>0.000000</td>\n",
       "      <td>0.0</td>\n",
       "      <td>0.0</td>\n",
       "      <td>0.0</td>\n",
       "      <td>0.0</td>\n",
       "      <td>0.0</td>\n",
       "      <td>0.0</td>\n",
       "      <td>0.000000</td>\n",
       "      <td>0.0</td>\n",
       "      <td>0.0</td>\n",
       "      <td>0.000000</td>\n",
       "      <td>0.000000</td>\n",
       "      <td>0.0</td>\n",
       "      <td>0.0</td>\n",
       "      <td>0.0</td>\n",
       "      <td>0.0</td>\n",
       "      <td>0.0</td>\n",
       "      <td>0.569472</td>\n",
       "      <td>0.041096</td>\n",
       "      <td>1.00</td>\n",
       "      <td>1.0</td>\n",
       "      <td>0.00</td>\n",
       "      <td>0.0</td>\n",
       "      <td>0.07</td>\n",
       "      <td>0.05</td>\n",
       "      <td>0.0</td>\n",
       "      <td>1.000000</td>\n",
       "      <td>0.078740</td>\n",
       "      <td>0.08</td>\n",
       "      <td>0.05</td>\n",
       "      <td>0.00</td>\n",
       "      <td>0.00</td>\n",
       "      <td>1.00</td>\n",
       "      <td>1.0</td>\n",
       "      <td>0.00</td>\n",
       "      <td>0.0</td>\n",
       "    </tr>\n",
       "  </tbody>\n",
       "</table>\n",
       "</div>"
      ],
      "text/plain": [
       "   duration  protocol_type   service  flag     src_bytes  dst_bytes  land  \\\n",
       "0  0.000000            0.0  0.275362   0.1  4.817014e-07   0.000000   0.0   \n",
       "1  0.000000            0.0  0.710145   0.0  0.000000e+00   0.000000   0.0   \n",
       "2  0.006759            0.0  0.869565   0.1  5.985212e-07   0.000176   0.0   \n",
       "3  0.000186            0.0  0.710145   0.4  0.000000e+00   0.000000   0.0   \n",
       "4  0.000000            0.0  0.826087   0.3  0.000000e+00   0.000000   0.0   \n",
       "\n",
       "   wrong_fragment  urgent  hot  num_failed_logins  logged_in  num_compromised  \\\n",
       "0             0.0     0.0  0.0                0.0        1.0         0.000000   \n",
       "1             0.0     0.0  0.0                0.0        0.0         0.000000   \n",
       "2             0.0     0.0  0.1                0.0        1.0         0.003835   \n",
       "3             0.0     0.0  0.0                0.0        0.0         0.000000   \n",
       "4             0.0     0.0  0.0                0.0        0.0         0.000000   \n",
       "\n",
       "   root_shell  su_attempted  num_root  num_file_creations  num_shells  \\\n",
       "0         0.0           0.0  0.000000            0.000000         0.0   \n",
       "1         0.0           0.0  0.000000            0.000000         0.0   \n",
       "2         0.0           0.0  0.003828            0.190476         0.0   \n",
       "3         0.0           0.0  0.000000            0.000000         0.0   \n",
       "4         0.0           0.0  0.000000            0.000000         0.0   \n",
       "\n",
       "   num_access_files  num_outbound_cmds  is_host_login  is_guest_login  \\\n",
       "0               0.0                0.0            0.0             0.0   \n",
       "1               0.0                0.0            0.0             0.0   \n",
       "2               0.0                0.0            0.0             0.0   \n",
       "3               0.0                0.0            0.0             0.0   \n",
       "4               0.0                0.0            0.0             0.0   \n",
       "\n",
       "      count  srv_count  serror_rate  srv_serror_rate  rerror_rate  \\\n",
       "0  0.001957   0.001957         0.00              0.0         0.00   \n",
       "1  0.996086   0.001957         0.04              0.0         0.95   \n",
       "2  0.001957   0.001957         0.00              0.0         0.00   \n",
       "3  0.001957   0.001957         0.00              0.0         1.00   \n",
       "4  0.569472   0.041096         1.00              1.0         0.00   \n",
       "\n",
       "   srv_rerror_rate  same_srv_rate  diff_srv_rate  srv_diff_host_rate  \\\n",
       "0              0.0           1.00           0.00                 0.0   \n",
       "1              1.0           0.00           1.00                 0.0   \n",
       "2              0.0           1.00           0.00                 0.0   \n",
       "3              1.0           1.00           0.00                 0.0   \n",
       "4              0.0           0.07           0.05                 0.0   \n",
       "\n",
       "   dst_host_count  dst_host_srv_count  dst_host_same_srv_rate  \\\n",
       "0        0.015748            0.153543                    1.00   \n",
       "1        1.000000            0.000000                    0.00   \n",
       "2        0.000000            0.000000                    1.00   \n",
       "3        0.645669            0.000000                    0.01   \n",
       "4        1.000000            0.078740                    0.08   \n",
       "\n",
       "   dst_host_diff_srv_rate  dst_host_same_src_port_rate  \\\n",
       "0                    0.00                         1.00   \n",
       "1                    1.00                         0.00   \n",
       "2                    0.00                         1.00   \n",
       "3                    0.71                         0.71   \n",
       "4                    0.05                         0.00   \n",
       "\n",
       "   dst_host_srv_diff_host_rate  dst_host_serror_rate  \\\n",
       "0                         0.15                  0.00   \n",
       "1                         0.00                  0.03   \n",
       "2                         0.00                  0.00   \n",
       "3                         0.00                  0.04   \n",
       "4                         0.00                  1.00   \n",
       "\n",
       "   dst_host_srv_serror_rate  dst_host_rerror_rate  dst_host_srv_rerror_rate  \n",
       "0                       0.0                  0.00                       0.0  \n",
       "1                       0.0                  0.95                       1.0  \n",
       "2                       0.0                  0.00                       0.0  \n",
       "3                       0.0                  0.62                       1.0  \n",
       "4                       1.0                  0.00                       0.0  "
      ]
     },
     "execution_count": 5,
     "metadata": {},
     "output_type": "execute_result"
    }
   ],
   "source": [
    "X_test.head()"
   ]
  },
  {
   "cell_type": "code",
   "execution_count": 6,
   "id": "c5c17105",
   "metadata": {},
   "outputs": [
    {
     "data": {
      "text/html": [
       "<div>\n",
       "<style scoped>\n",
       "    .dataframe tbody tr th:only-of-type {\n",
       "        vertical-align: middle;\n",
       "    }\n",
       "\n",
       "    .dataframe tbody tr th {\n",
       "        vertical-align: top;\n",
       "    }\n",
       "\n",
       "    .dataframe thead th {\n",
       "        text-align: right;\n",
       "    }\n",
       "</style>\n",
       "<table border=\"1\" class=\"dataframe\">\n",
       "  <thead>\n",
       "    <tr style=\"text-align: right;\">\n",
       "      <th></th>\n",
       "      <th>xAttack</th>\n",
       "    </tr>\n",
       "  </thead>\n",
       "  <tbody>\n",
       "    <tr>\n",
       "      <th>0</th>\n",
       "      <td>2</td>\n",
       "    </tr>\n",
       "    <tr>\n",
       "      <th>1</th>\n",
       "      <td>3</td>\n",
       "    </tr>\n",
       "    <tr>\n",
       "      <th>2</th>\n",
       "      <td>4</td>\n",
       "    </tr>\n",
       "    <tr>\n",
       "      <th>3</th>\n",
       "      <td>3</td>\n",
       "    </tr>\n",
       "    <tr>\n",
       "      <th>4</th>\n",
       "      <td>1</td>\n",
       "    </tr>\n",
       "  </tbody>\n",
       "</table>\n",
       "</div>"
      ],
      "text/plain": [
       "   xAttack\n",
       "0        2\n",
       "1        3\n",
       "2        4\n",
       "3        3\n",
       "4        1"
      ]
     },
     "execution_count": 6,
     "metadata": {},
     "output_type": "execute_result"
    }
   ],
   "source": [
    "y_test.head()"
   ]
  },
  {
   "cell_type": "markdown",
   "id": "8a67f689",
   "metadata": {},
   "source": [
    "<h2 style=\"font-family:san-serif;font-size:30px;color:green;font-weight:bold;text-align:right\">Algorithm: SupportVectorClassifier</h2>"
   ]
  },
  {
   "cell_type": "code",
   "execution_count": 7,
   "id": "54ca9eeb",
   "metadata": {},
   "outputs": [],
   "source": [
    "from sklearn.svm import SVC\n",
    "svc_model=SVC()\n",
    "svc_model=svc_model.fit(X_train.values,y_train.values.ravel())"
   ]
  },
  {
   "cell_type": "code",
   "execution_count": 8,
   "id": "fa31ee9c",
   "metadata": {},
   "outputs": [
    {
     "name": "stdout",
     "output_type": "stream",
     "text": [
      "[2 3 4 ... 0 1 4]\n"
     ]
    }
   ],
   "source": [
    "svc_pred=svc_model.predict(X_test.values)\n",
    "print(svc_pred)"
   ]
  },
  {
   "cell_type": "markdown",
   "id": "772f5977",
   "metadata": {},
   "source": [
    "### Result analysis"
   ]
  },
  {
   "cell_type": "code",
   "execution_count": 9,
   "id": "ab79c12e",
   "metadata": {},
   "outputs": [],
   "source": [
    "class_labels=['normal', 'dos', 'r2l', 'probe', 'u2r']"
   ]
  },
  {
   "cell_type": "markdown",
   "id": "c2c967ed",
   "metadata": {},
   "source": [
    "<h6 style=\"font-family:san-serif;font-size:20px;color:black;font-weight:bold;text-align:left\">Accuracy Score</h6>"
   ]
  },
  {
   "cell_type": "code",
   "execution_count": 10,
   "id": "159cada7",
   "metadata": {},
   "outputs": [
    {
     "name": "stdout",
     "output_type": "stream",
     "text": [
      "SupportVectorClassifier model's Validation accuracy is 95.82%\n"
     ]
    }
   ],
   "source": [
    "model_accuracy=accuracy_score(y_true=y_test.values.ravel(),y_pred=svc_pred)\n",
    "print(\"SupportVectorClassifier model's Validation accuracy is {:.2f}%\".format(model_accuracy*100))"
   ]
  },
  {
   "cell_type": "markdown",
   "id": "049a2cb8",
   "metadata": {},
   "source": [
    "<h6 style=\"font-family:san-serif;font-size:20px;color:black;font-weight:bold;text-align:left\">Classification Report</h6>"
   ]
  },
  {
   "cell_type": "code",
   "execution_count": 11,
   "id": "8c4c391a",
   "metadata": {},
   "outputs": [
    {
     "name": "stdout",
     "output_type": "stream",
     "text": [
      "              precision    recall  f1-score   support\n",
      "\n",
      "      normal       0.94      0.93      0.94      1000\n",
      "         dos       1.00      0.97      0.98      1000\n",
      "         r2l       0.90      0.98      0.94      1000\n",
      "       probe       0.99      0.99      0.99      1000\n",
      "         u2r       0.97      0.93      0.95      1000\n",
      "\n",
      "    accuracy                           0.96      5000\n",
      "   macro avg       0.96      0.96      0.96      5000\n",
      "weighted avg       0.96      0.96      0.96      5000\n",
      "\n"
     ]
    }
   ],
   "source": [
    "print(classification_report(y_true=y_test.values.ravel(),y_pred=svc_pred, target_names=class_labels))"
   ]
  },
  {
   "cell_type": "markdown",
   "id": "4a5c4b84",
   "metadata": {},
   "source": [
    "<h6 style=\"font-family:san-serif;font-size:20px;color:black;font-weight:bold;text-align:left\">Confusion Matrix</h6>"
   ]
  },
  {
   "cell_type": "code",
   "execution_count": 12,
   "id": "e65fc7a5",
   "metadata": {},
   "outputs": [
    {
     "data": {
      "image/png": "[encoded data removed]",
      "text/plain": [
       "<Figure size 360x360 with 1 Axes>"
      ]
     },
     "metadata": {
      "needs_background": "light"
     },
     "output_type": "display_data"
    }
   ],
   "source": [
    "plt.figure(figsize=(5,5))\n",
    "ax=sns.heatmap(data=confusion_matrix(y_true=y_test.values.ravel(),y_pred=svc_pred),\n",
    "              annot=True,\n",
    "              fmt='4d',\n",
    "              cbar=False,\n",
    "              cmap=plt.cm.Blues,\n",
    "              xticklabels=class_labels,\n",
    "              yticklabels=class_labels)\n",
    "plt.title(label=\"SupportVectorClassifier confusion matrix\")\n",
    "plt.show()"
   ]
  },
  {
   "cell_type": "markdown",
   "id": "e8ca1250",
   "metadata": {},
   "source": [
    "<h6 style=\"font-family:san-serif;font-size:20px;color:black;font-weight:bold;text-align:left\">Model Saving</h6>"
   ]
  },
  {
   "cell_type": "code",
   "execution_count": 16,
   "id": "d4a07f0b",
   "metadata": {},
   "outputs": [],
   "source": [
    "import pickle\n",
    "with open(file='models/SupportVectorClassifier_model.pkl',mode='wb') as file:\n",
    "    pickle.dump(obj=svc_model,file=file)"
   ]
  },
  {
   "cell_type": "markdown",
   "id": "08b5407c",
   "metadata": {},
   "source": [
    "---"
   ]
  },
  {
   "cell_type": "code",
   "execution_count": 7,
   "id": "578bdf3d",
   "metadata": {},
   "outputs": [],
   "source": [
    "x_train=np.reshape(a=X_train.values,newshape=(X_train.shape[0],X_train.shape[1],1))\n",
    "x_test=np.reshape(a=X_test.values,newshape=(X_test.shape[0],X_test.shape[1],1))"
   ]
  },
  {
   "cell_type": "code",
   "execution_count": 8,
   "id": "403be801",
   "metadata": {},
   "outputs": [
    {
     "name": "stdout",
     "output_type": "stream",
     "text": [
      "(20000, 41, 1) (5000, 41, 1)\n"
     ]
    }
   ],
   "source": [
    "print(x_train.shape,x_test.shape)"
   ]
  },
  {
   "cell_type": "markdown",
   "id": "97bc1d77",
   "metadata": {},
   "source": [
    "<h2 style=\"font-family:san-serif;font-size:30px;color:green;font-weight:bold;text-align:right\">Algorithm: ConvolutionalLong-ShortTermMemory</h2>"
   ]
  },
  {
   "cell_type": "code",
   "execution_count": 9,
   "id": "97ff47da",
   "metadata": {},
   "outputs": [],
   "source": [
    "from tensorflow.keras import Sequential\n",
    "from tensorflow.keras.layers import Conv1D,MaxPool1D,BatchNormalization,LSTM,Flatten,Dropout,Dense\n",
    "from tensorflow.keras.utils import to_categorical"
   ]
  },
  {
   "cell_type": "code",
   "execution_count": 10,
   "id": "54d714e4",
   "metadata": {},
   "outputs": [],
   "source": [
    "y_train=to_categorical(y_train.values.ravel())\n",
    "y_test=to_categorical(y_test.values.ravel())"
   ]
  },
  {
   "cell_type": "code",
   "execution_count": 11,
   "id": "30c7d2a1",
   "metadata": {},
   "outputs": [],
   "source": [
    "model = Sequential()\n",
    "model.add(Conv1D(filters=64, kernel_size=3, activation='relu', input_shape=(x_train.shape[1],\n",
    "                                                                            x_train.shape[2])))\n",
    "model.add(Conv1D(filters=64, kernel_size=3, activation='relu'))\n",
    "model.add(BatchNormalization())\n",
    "model.add(MaxPool1D())\n",
    "model.add(Conv1D(filters=128, kernel_size=3, activation='relu'))\n",
    "model.add(Conv1D(filters=128, kernel_size=3, activation='relu'))\n",
    "model.add(BatchNormalization())\n",
    "model.add(MaxPool1D())\n",
    "model.add(LSTM(units=200,return_sequences=True))\n",
    "model.add(LSTM(units=200,return_sequences=True))\n",
    "model.add(Flatten())\n",
    "model.add(Dropout(0.5))\n",
    "model.add(Dense(512, activation='relu'))\n",
    "model.add(Dense(5, activation='softmax'))\n",
    "model.compile(loss='categorical_crossentropy', optimizer=\"adam\", metrics=['accuracy'])"
   ]
  },
  {
   "cell_type": "code",
   "execution_count": 12,
   "id": "8e3873f4",
   "metadata": {},
   "outputs": [
    {
     "name": "stdout",
     "output_type": "stream",
     "text": [
      "Model: \"sequential\"\n",
      "_________________________________________________________________\n",
      " Layer (type)                Output Shape              Param #   \n",
      "=================================================================\n",
      " conv1d (Conv1D)             (None, 39, 64)            256       \n",
      "                                                                 \n",
      " conv1d_1 (Conv1D)           (None, 37, 64)            12352     \n",
      "                                                                 \n",
      " batch_normalization (BatchN  (None, 37, 64)           256       \n",
      " ormalization)                                                   \n",
      "                                                                 \n",
      " max_pooling1d (MaxPooling1D  (None, 18, 64)           0         \n",
      " )                                                               \n",
      "                                                                 \n",
      " conv1d_2 (Conv1D)           (None, 16, 128)           24704     \n",
      "                                                                 \n",
      " conv1d_3 (Conv1D)           (None, 14, 128)           49280     \n",
      "                                                                 \n",
      " batch_normalization_1 (Batc  (None, 14, 128)          512       \n",
      " hNormalization)                                                 \n",
      "                                                                 \n",
      " max_pooling1d_1 (MaxPooling  (None, 7, 128)           0         \n",
      " 1D)                                                             \n",
      "                                                                 \n",
      " lstm (LSTM)                 (None, 7, 200)            263200    \n",
      "                                                                 \n",
      " lstm_1 (LSTM)               (None, 7, 200)            320800    \n",
      "                                                                 \n",
      " flatten (Flatten)           (None, 1400)              0         \n",
      "                                                                 \n",
      " dropout (Dropout)           (None, 1400)              0         \n",
      "                                                                 \n",
      " dense (Dense)               (None, 512)               717312    \n",
      "                                                                 \n",
      " dense_1 (Dense)             (None, 5)                 2565      \n",
      "                                                                 \n",
      "=================================================================\n",
      "Total params: 1,391,237\n",
      "Trainable params: 1,390,853\n",
      "Non-trainable params: 384\n",
      "_________________________________________________________________\n"
     ]
    }
   ],
   "source": [
    "model.summary()"
   ]
  },
  {
   "cell_type": "code",
   "execution_count": 13,
   "id": "c5537ca8",
   "metadata": {},
   "outputs": [
    {
     "name": "stdout",
     "output_type": "stream",
     "text": [
      "Epoch 1/10\n",
      "625/625 [==============================] - 78s 101ms/step - loss: 0.2252 - accuracy: 0.9270 - val_loss: 0.1639 - val_accuracy: 0.9436\n",
      "Epoch 2/10\n",
      "625/625 [==============================] - 59s 95ms/step - loss: 0.1129 - accuracy: 0.9635 - val_loss: 0.1048 - val_accuracy: 0.9628\n",
      "Epoch 3/10\n",
      "625/625 [==============================] - 59s 95ms/step - loss: 0.0862 - accuracy: 0.9729 - val_loss: 0.1717 - val_accuracy: 0.9286\n",
      "Epoch 4/10\n",
      "625/625 [==============================] - 60s 96ms/step - loss: 0.0711 - accuracy: 0.9772 - val_loss: 0.1060 - val_accuracy: 0.9644\n",
      "Epoch 5/10\n",
      "625/625 [==============================] - 60s 96ms/step - loss: 0.0649 - accuracy: 0.9792 - val_loss: 0.0766 - val_accuracy: 0.9754\n",
      "Epoch 6/10\n",
      "625/625 [==============================] - 59s 95ms/step - loss: 0.0636 - accuracy: 0.9796 - val_loss: 0.0691 - val_accuracy: 0.9758\n",
      "Epoch 7/10\n",
      "625/625 [==============================] - 58s 94ms/step - loss: 0.0651 - accuracy: 0.9786 - val_loss: 0.0754 - val_accuracy: 0.9788\n",
      "Epoch 8/10\n",
      "625/625 [==============================] - 62s 100ms/step - loss: 0.0435 - accuracy: 0.9854 - val_loss: 0.0809 - val_accuracy: 0.9794\n",
      "Epoch 9/10\n",
      "625/625 [==============================] - 61s 98ms/step - loss: 0.0440 - accuracy: 0.9845 - val_loss: 0.0609 - val_accuracy: 0.9838\n",
      "Epoch 10/10\n",
      "625/625 [==============================] - 60s 96ms/step - loss: 0.0432 - accuracy: 0.9861 - val_loss: 0.0676 - val_accuracy: 0.9758\n"
     ]
    }
   ],
   "source": [
    "history=model.fit(x=x_train,y=y_train,batch_size=32,epochs=10,validation_data=(x_test,y_test))"
   ]
  },
  {
   "cell_type": "code",
   "execution_count": 14,
   "id": "6b226348",
   "metadata": {},
   "outputs": [
    {
     "data": {
      "image/png": "[encoded data removed]",
      "text/plain": [
       "<Figure size 1296x576 with 1 Axes>"
      ]
     },
     "metadata": {
      "needs_background": "light"
     },
     "output_type": "display_data"
    },
    {
     "data": {
      "image/png": "[encoded data removed]",
      "text/plain": [
       "<Figure size 1296x576 with 1 Axes>"
      ]
     },
     "metadata": {
      "needs_background": "light"
     },
     "output_type": "display_data"
    }
   ],
   "source": [
    "with plt.style.context(style='_mpl-gallery'):\n",
    "    plt.figure(figsize=(18,8))\n",
    "    plt.plot(history.history[\"accuracy\"],label=\"accuracy\")\n",
    "    plt.plot(history.history[\"val_accuracy\"],label=\"val_accuracy\")\n",
    "    plt.title(label=\"accuracy plot-graphs\")\n",
    "    plt.xlabel(xlabel='Epochs')\n",
    "    plt.ylabel(ylabel='Accuracy')\n",
    "    plt.xticks(range(0,10))\n",
    "    plt.legend()\n",
    "    plt.show()\n",
    "\n",
    "    plt.figure(figsize=(18,8))\n",
    "    plt.plot(history.history[\"loss\"],label=\"loss\")\n",
    "    plt.plot(history.history[\"val_loss\"],label=\"val_loss\")\n",
    "    plt.title(label=\"loss plot-graphs\")\n",
    "    plt.xlabel(xlabel='Epochs')\n",
    "    plt.ylabel(ylabel='Loss')\n",
    "    plt.xticks(range(0,10))\n",
    "    plt.legend()\n",
    "    plt.show()"
   ]
  },
  {
   "cell_type": "code",
   "execution_count": 15,
   "id": "c2610d76",
   "metadata": {},
   "outputs": [
    {
     "name": "stdout",
     "output_type": "stream",
     "text": [
      "157/157 [==============================] - 9s 31ms/step\n",
      "[[4.4063063e-04 1.5182595e-08 9.9948931e-01 1.6504717e-07 6.9841895e-05]\n",
      " [8.1078897e-06 5.9432115e-10 4.2306946e-13 9.9999189e-01 2.9064797e-17]\n",
      " [1.2852891e-07 2.2795410e-18 5.2185980e-05 2.4076905e-13 9.9994767e-01]\n",
      " ...\n",
      " [3.3123574e-01 4.3019681e-04 2.9258556e-06 6.6832793e-01 3.2120083e-06]\n",
      " [6.8196462e-11 1.0000000e+00 3.0987246e-12 2.8986186e-14 3.6645602e-18]\n",
      " [5.4802302e-07 1.3127598e-15 4.4708272e-06 2.0121840e-09 9.9999499e-01]]\n"
     ]
    }
   ],
   "source": [
    "prediction=model.predict(x_test,batch_size=32,verbose=1)\n",
    "print(prediction)"
   ]
  },
  {
   "cell_type": "code",
   "execution_count": 16,
   "id": "b3046fd9",
   "metadata": {},
   "outputs": [
    {
     "name": "stdout",
     "output_type": "stream",
     "text": [
      "[2, 3, 4, 3, 1, 2, 2, 1, 1, 4, 2, 1, 3, 1, 3, 4, 0, 4, 1, 1, 3, 3, 0, 1, 4, 4, 0, 0, 3, 3, 1, 1, 2, 3, 2, 0, 2, 3, 4, 0, 1, 4, 4, 1, 0, 4, 1, 3, 2, 1, 1, 4, 0, 4, 0, 1, 4, 1, 2, 3, 1, 2, 0, 2, 2, 4, 0, 4, 2, 4, 4, 2, 1, 0, 3, 4, 2, 0, 3, 4, 3, 2, 3, 3, 2, 2, 1, 4, 4, 2, 3, 4, 4, 2, 2, 1, 1, 4, 0, 4, 2, 4, 4, 2, 2, 3, 4, 4, 1, 2, 3, 4, 0, 1, 2, 0, 3, 4, 2, 2, 4, 3, 4, 2, 1, 4, 3, 0, 0, 3, 3, 2, 2, 3, 2, 4, 0, 0, 1, 4, 3, 1, 4, 0, 4, 1, 2, 1, 1, 4, 4, 4, 4, 3, 2, 0, 3, 0, 2, 4, 1, 4, 1, 2, 2, 2, 3, 1, 3, 0, 0, 1, 4, 0, 4, 2, 1, 2, 1, 4, 3, 2, 4, 3, 0, 1, 1, 4, 0, 3, 3, 4, 0, 2, 1, 1, 3, 4, 1, 0, 2, 3, 2, 1, 2, 2, 1, 0, 1, 3, 3, 0, 0, 3, 4, 3, 4, 3, 3, 1, 4, 2, 3, 0, 1, 2, 2, 0, 0, 3, 3, 2, 2, 2, 1, 4, 1, 4, 1, 2, 1, 1, 3, 1, 2, 1, 2, 0, 2, 3, 3, 3, 0, 0, 3, 2, 2, 2, 0, 0, 0, 1, 0, 1, 2, 0, 1, 3, 3, 3, 3, 0, 3, 0, 3, 0, 3, 4, 0, 0, 4, 1, 0, 0, 2, 1, 1, 0, 4, 3, 2, 3, 4, 1, 1, 3, 3, 1, 1, 3, 1, 0, 1, 3, 0, 3, 4, 4, 4, 3, 0, 3, 1, 2, 3, 2, 4, 0, 3, 0, 0, 4, 4, 1, 0, 2, 1, 3, 4, 1, 2, 0, 0, 3, 3, 4, 4, 4, 1, 0, 1, 1, 2, 3, 0, 4, 3, 1, 4, 1, 1, 2, 2, 2, 1, 2, 0, 3, 2, 3, 4, 2, 4, 1, 1, 0, 3, 3, 3, 1, 0, 4, 2, 4, 2, 1, 2, 3, 0, 4, 1, 2, 3, 1, 3, 1, 0, 3, 2, 3, 3, 4, 4, 4, 0, 4, 3, 4, 4, 3, 3, 2, 4, 3, 2, 0, 1, 2, 2, 1, 0, 4, 3, 2, 4, 3, 0, 3, 4, 0, 4, 4, 2, 3, 1, 1, 0, 0, 0, 1, 3, 0, 4, 0, 1, 0, 0, 2, 4, 1, 3, 0, 1, 3, 3, 0, 1, 3, 1, 3, 0, 3, 4, 4, 0, 4, 2, 2, 1, 3, 0, 1, 2, 0, 4, 1, 1, 0, 2, 3, 4, 1, 3, 4, 3, 1, 1, 1, 3, 3, 0, 3, 2, 0, 2, 1, 3, 4, 2, 0, 4, 4, 2, 0, 3, 2, 4, 3, 0, 0, 1, 1, 2, 2, 2, 3, 4, 0, 3, 0, 3, 2, 4, 4, 0, 3, 0, 0, 0, 4, 1, 1, 3, 4, 1, 3, 2, 2, 1, 3, 3, 4, 4, 3, 2, 3, 1, 3, 1, 1, 1, 0, 0, 4, 4, 4, 2, 3, 4, 2, 4, 0, 2, 3, 0, 3, 1, 4, 1, 0, 4, 0, 1, 1, 2, 4, 3, 4, 3, 2, 1, 2, 4, 2, 3, 2, 3, 3, 4, 1, 0, 2, 1, 0, 0, 1, 2, 0, 2, 3, 1, 0, 3, 0, 3, 4, 0, 2, 0, 3, 4, 3, 3, 3, 3, 4, 3, 0, 0, 0, 0, 2, 0, 0, 3, 0, 2, 3, 1, 4, 1, 1, 3, 0, 1, 1, 3, 3, 4, 1, 1, 1, 3, 3, 3, 0, 0, 2, 3, 1, 4, 2, 3, 4, 2, 0, 1, 1, 1, 2, 0, 0, 2, 2, 4, 2, 2, 2, 0, 4, 4, 3, 3, 1, 2, 1, 4, 4, 2, 1, 3, 2, 2, 2, 3, 3, 0, 2, 4, 0, 4, 1, 0, 1, 0, 3, 2, 4, 3, 4, 3, 2, 0, 0, 3, 2, 3, 3, 1, 4, 0, 0, 4, 3, 2, 3, 4, 2, 4, 1, 2, 1, 4, 1, 0, 2, 1, 3, 2, 2, 1, 0, 0, 0, 2, 2, 0, 2, 0, 2, 1, 1, 2, 2, 0, 4, 2, 4, 4, 1, 1, 0, 3, 4, 0, 0, 4, 4, 3, 2, 3, 1, 4, 0, 3, 2, 2, 0, 1, 0, 2, 3, 2, 2, 0, 0, 4, 4, 0, 0, 2, 1, 1, 1, 0, 1, 2, 3, 3, 1, 3, 1, 0, 1, 3, 2, 2, 0, 0, 2, 2, 2, 3, 3, 3, 1, 0, 2, 2, 4, 2, 0, 2, 2, 1, 3, 2, 4, 4, 1, 3, 0, 3, 0, 4, 3, 3, 3, 0, 4, 3, 4, 4, 1, 3, 2, 1, 2, 4, 4, 0, 0, 1, 0, 0, 2, 2, 1, 3, 3, 2, 4, 1, 2, 2, 2, 2, 1, 3, 0, 3, 3, 3, 4, 0, 1, 4, 4, 2, 4, 4, 0, 2, 3, 3, 0, 3, 4, 1, 3, 4, 0, 2, 3, 4, 2, 1, 4, 4, 1, 2, 3, 0, 1, 4, 2, 0, 1, 3, 0, 1, 0, 4, 3, 4, 0, 1, 0, 1, 1, 4, 3, 2, 3, 4, 4, 1, 2, 3, 1, 0, 0, 1, 3, 2, 3, 4, 0, 3, 3, 0, 1, 3, 1, 3, 1, 4, 2, 4, 0, 2, 2, 4, 4, 4, 0, 1, 4, 2, 3, 3, 2, 0, 0, 3, 4, 4, 4, 1, 3, 3, 4, 4, 2, 4, 0, 2, 2, 2, 1, 0, 1, 1, 1, 1, 2, 4, 2, 1, 2, 4, 4, 1, 4, 1, 2, 0, 4, 4, 2, 1, 3, 1, 2, 3, 2, 2, 4, 0, 1, 4, 2, 2, 1, 0, 3, 4, 3, 1, 1, 0, 3, 0, 1, 4, 1, 1, 0, 2, 1, 2, 1, 2, 4, 2, 4, 4, 0, 1, 0, 2, 0, 2, 1, 1, 1, 3, 1, 4, 4, 0, 2, 4, 2, 1, 3, 0, 4, 2, 0, 0, 2, 0, 4, 4, 2, 0, 2, 0, 0, 2, 3, 4, 3, 1, 0, 2, 1, 3, 2, 3, 3, 2, 2, 4, 4, 2, 4, 1, 3, 2, 3, 1, 3, 3, 4, 4, 1, 2, 3, 2, 4, 0, 0, 1, 4, 1, 4, 2, 4, 4, 2, 3, 3, 2, 1, 0, 4, 2, 1, 0, 4, 0, 2, 2, 0, 1, 3, 2, 2, 0, 1, 1, 1, 2, 0, 1, 3, 1, 4, 4, 1, 0, 4, 2, 4, 2, 1, 0, 1, 4, 4, 2, 4, 2, 4, 1, 4, 1, 1, 2, 4, 3, 2, 1, 4, 0, 2, 4, 2, 2, 3, 2, 4, 0, 0, 1, 4, 4, 2, 2, 1, 4, 0, 4, 1, 3, 0, 1, 2, 4, 3, 1, 1, 4, 4, 3, 0, 3, 4, 0, 2, 1, 0, 4, 0, 2, 4, 3, 1, 3, 1, 2, 0, 1, 1, 2, 2, 2, 1, 1, 3, 2, 1, 2, 2, 4, 2, 0, 0, 2, 3, 0, 0, 2, 1, 4, 0, 2, 2, 4, 1, 1, 3, 2, 0, 1, 1, 4, 4, 0, 2, 4, 0, 3, 2, 0, 1, 3, 3, 4, 0, 1, 2, 2, 0, 4, 4, 3, 2, 3, 1, 3, 1, 0, 1, 2, 4, 3, 1, 4, 1, 1, 0, 1, 2, 1, 0, 1, 0, 3, 4, 1, 3, 0, 4, 4, 4, 0, 4, 4, 1, 1, 0, 0, 2, 1, 4, 1, 4, 2, 2, 4, 3, 1, 3, 1, 0, 4, 4, 0, 0, 2, 3, 3, 4, 0, 1, 3, 1, 4, 0, 4, 0, 4, 4, 4, 0, 3, 3, 2, 4, 0, 3, 3, 2, 1, 2, 0, 3, 3, 4, 3, 3, 2, 3, 4, 3, 2, 2, 2, 1, 0, 4, 3, 2, 3, 4, 0, 2, 0, 4, 0, 4, 1, 4, 4, 0, 0, 0, 2, 3, 0, 4, 3, 0, 0, 2, 4, 2, 1, 2, 4, 0, 0, 0, 3, 0, 0, 3, 4, 4, 1, 1, 2, 4, 2, 0, 0, 4, 3, 0, 4, 3, 4, 0, 2, 0, 0, 3, 1, 0, 0, 0, 1, 3, 1, 1, 3, 4, 1, 2, 2, 2, 0, 2, 0, 3, 0, 1, 1, 4, 3, 4, 0, 4, 1, 0, 1, 3, 0, 0, 2, 2, 1, 3, 2, 4, 4, 2, 1, 4, 4, 4, 1, 0, 2, 4, 2, 4, 4, 0, 1, 1, 0, 0, 2, 2, 3, 0, 0, 0, 2, 4, 4, 1, 0, 2, 0, 2, 3, 2, 4, 3, 2, 0, 2, 1, 1, 0, 3, 4, 4, 3, 0, 3, 4, 1, 3, 4, 1, 3, 2, 0, 1, 4, 1, 2, 2, 3, 0, 3, 0, 0, 4, 2, 2, 0, 1, 1, 3, 1, 2, 0, 3, 3, 1, 1, 3, 1, 2, 2, 0, 0, 1, 4, 3, 2, 4, 4, 2, 4, 3, 2, 2, 1, 0, 4, 3, 1, 0, 0, 4, 3, 0, 2, 2, 3, 0, 3, 2, 3, 1, 0, 4, 2, 2, 0, 1, 3, 3, 2, 3, 1, 2, 1, 1, 2, 1, 4, 2, 2, 1, 0, 2, 3, 1, 2, 1, 0, 3, 2, 0, 4, 4, 1, 3, 0, 1, 0, 1, 3, 1, 2, 3, 0, 1, 2, 2, 0, 0, 1, 2, 0, 4, 0, 0, 2, 1, 2, 4, 4, 2, 1, 2, 1, 4, 3, 1, 1, 0, 4, 1, 2, 1, 3, 3, 0, 0, 4, 4, 2, 0, 1, 4, 3, 3, 1, 2, 4, 2, 3, 1, 4, 3, 4, 1, 2, 0, 2, 4, 4, 2, 2, 2, 2, 0, 1, 0, 0, 4, 0, 0, 1, 2, 3, 1, 3, 4, 4, 2, 1, 4, 0, 2, 3, 0, 2, 0, 2, 3, 0, 1, 4, 0, 3, 3, 4, 1, 4, 4, 2, 1, 0, 4, 2, 1, 4, 0, 0, 1, 3, 3, 4, 3, 1, 2, 2, 2, 0, 1, 4, 3, 3, 1, 3, 4, 0, 0, 2, 1, 4, 3, 2, 0, 1, 3, 2, 1, 4, 2, 1, 3, 1, 0, 3, 2, 3, 0, 0, 3, 0, 0, 1, 1, 0, 4, 2, 3, 4, 3, 3, 1, 3, 4, 0, 1, 3, 4, 2, 0, 4, 3, 4, 0, 4, 2, 3, 0, 4, 1, 4, 4, 0, 4, 1, 0, 2, 2, 1, 0, 1, 2, 4, 2, 3, 0, 4, 3, 0, 1, 3, 4, 1, 3, 3, 3, 2, 0, 2, 3, 2, 2, 1, 3, 2, 3, 4, 0, 4, 1, 2, 4, 1, 2, 0, 1, 3, 3, 1, 0, 3, 0, 2, 1, 2, 3, 1, 0, 0, 3, 4, 1, 4, 4, 0, 1, 1, 3, 4, 2, 4, 2, 2, 2, 0, 4, 2, 2, 3, 2, 1, 3, 3, 4, 1, 0, 0, 1, 4, 2, 3, 1, 2, 1, 1, 1, 2, 2, 2, 3, 2, 0, 2, 4, 0, 1, 1, 0, 3, 3, 3, 3, 4, 2, 3, 4, 0, 4, 2, 0, 3, 3, 2, 4, 0, 3, 1, 3, 1, 1, 4, 3, 3, 1, 2, 2, 1, 1, 2, 2, 0, 3, 4, 4, 2, 4, 4, 4, 2, 2, 2, 2, 0, 3, 1, 2, 4, 3, 1, 3, 0, 3, 2, 2, 3, 3, 3, 4, 1, 1, 0, 3, 0, 0, 2, 2, 1, 3, 4, 1, 4, 2, 3, 3, 3, 3, 3, 3, 3, 4, 3, 3, 2, 4, 3, 2, 2, 2, 4, 3, 3, 2, 3, 3, 4, 3, 0, 0, 2, 1, 1, 2, 1, 4, 1, 3, 4, 4, 1, 2, 1, 4, 0, 4, 2, 0, 2, 1, 0, 4, 0, 3, 2, 1, 4, 1, 1, 3, 0, 0, 3, 0, 1, 0, 3, 1, 3, 4, 2, 1, 4, 4, 1, 1, 0, 0, 2, 1, 1, 2, 0, 4, 3, 1, 3, 4, 0, 3, 4, 1, 4, 3, 1, 2, 1, 3, 1, 3, 4, 3, 1, 0, 2, 1, 0, 2, 2, 1, 3, 2, 1, 4, 0, 2, 3, 0, 2, 1, 2, 2, 0, 2, 4, 1, 1, 1, 3, 2, 4, 3, 2, 1, 4, 2, 3, 2, 4, 4, 1, 2, 1, 1, 2, 1, 3, 4, 4, 0, 4, 1, 0, 1, 1, 3, 1, 4, 4, 0, 4, 3, 0, 1, 0, 2, 3, 0, 0, 1, 0, 1, 3, 4, 1, 4, 4, 3, 1, 4, 0, 4, 2, 3, 1, 1, 2, 2, 0, 4, 1, 4, 2, 4, 4, 3, 3, 0, 0, 2, 3, 4, 3, 2, 4, 4, 2, 2, 0, 1, 0, 2, 0, 3, 4, 1, 0, 3, 3, 3, 2, 1, 0, 4, 4, 2, 1, 1, 1, 2, 4, 2, 2, 0, 2, 0, 3, 4, 1, 3, 1, 4, 3, 4, 1, 0, 2, 3, 1, 2, 1, 1, 3, 0, 0, 3, 2, 2, 1, 3, 3, 4, 4, 4, 3, 3, 2, 3, 2, 2, 3, 4, 2, 4, 3, 0, 4, 4, 0, 1, 4, 1, 3, 2, 0, 1, 2, 3, 1, 4, 0, 3, 1, 2, 2, 0, 2, 1, 4, 2, 0, 0, 0, 3, 3, 0, 0, 4, 3, 0, 4, 3, 4, 4, 1, 3, 3, 3, 1, 2, 0, 0, 2, 4, 3, 3, 1, 2, 3, 2, 4, 0, 0, 0, 4, 3, 2, 2, 3, 3, 4, 1, 4, 3, 3, 4, 3, 4, 0, 3, 3, 3, 3, 3, 1, 4, 2, 0, 4, 3, 4, 0, 4, 2, 3, 0, 2, 2, 0, 3, 2, 2, 3, 4, 3, 2, 0, 2, 4, 0, 3, 0, 2, 3, 3, 4, 4, 1, 1, 1, 4, 4, 0, 0, 0, 3, 4, 1, 2, 4, 2, 4, 2, 1, 3, 2, 0, 0, 3, 1, 4, 3, 3, 2, 3, 4, 4, 1, 0, 1, 1, 1, 1, 2, 4, 3, 1, 1, 0, 3, 3, 3, 3, 1, 0, 2, 3, 0, 3, 4, 1, 2, 0, 2, 2, 1, 2, 2, 2, 1, 3, 4, 1, 1, 4, 3, 4, 0, 2, 3, 0, 2, 0, 0, 3, 1, 1, 3, 4, 2, 4, 0, 0, 4, 1, 2, 1, 4, 2, 0, 0, 1, 1, 1, 1, 4, 0, 4, 2, 0, 4, 4, 0, 0, 4, 3, 4, 3, 2, 3, 0, 0, 2, 0, 0, 2, 2, 3, 4, 1, 4, 2, 1, 1, 2, 2, 0, 4, 0, 4, 2, 4, 0, 4, 2, 2, 3, 3, 1, 2, 1, 0, 2, 2, 0, 0, 2, 4, 2, 3, 0, 0, 1, 2, 0, 4, 3, 1, 1, 3, 4, 3, 3, 3, 1, 0, 2, 1, 3, 1, 0, 2, 0, 0, 3, 4, 1, 0, 3, 4, 0, 2, 4, 2, 4, 1, 2, 0, 4, 2, 3, 0, 1, 1, 0, 3, 2, 0, 4, 0, 4, 4, 4, 1, 2, 3, 1, 2, 0, 1, 1, 2, 2, 4, 4, 2, 3, 2, 4, 3, 1, 3, 1, 2, 0, 2, 0, 1, 2, 0, 1, 3, 1, 0, 2, 3, 0, 4, 2, 3, 4, 1, 3, 3, 1, 2, 0, 0, 1, 3, 4, 0, 1, 0, 0, 4, 4, 2, 0, 2, 2, 2, 3, 3, 1, 2, 1, 4, 0, 3, 4, 1, 4, 2, 0, 1, 0, 3, 2, 4, 4, 2, 0, 3, 2, 2, 3, 1, 1, 0, 2, 3, 4, 0, 0, 3, 3, 3, 0, 1, 4, 3, 3, 0, 0, 3, 2, 2, 2, 1, 3, 1, 4, 0, 0, 1, 0, 0, 0, 4, 1, 3, 2, 2, 4, 4, 2, 1, 2, 3, 3, 3, 4, 0, 4, 1, 1, 4, 4, 3, 4, 4, 0, 1, 4, 4, 4, 2, 3, 3, 1, 0, 2, 3, 2, 4, 4, 1, 3, 4, 0, 3, 2, 0, 3, 0, 3, 4, 4, 4, 3, 2, 3, 4, 0, 1, 2, 0, 3, 3, 1, 3, 4, 2, 0, 3, 3, 3, 1, 2, 4, 4, 1, 2, 2, 2, 0, 1, 1, 2, 4, 0, 1, 4, 1, 0, 4, 3, 4, 3, 0, 3, 1, 0, 0, 1, 3, 0, 0, 4, 0, 1, 0, 1, 0, 0, 0, 3, 2, 1, 3, 3, 2, 0, 3, 3, 1, 3, 2, 0, 0, 0, 4, 3, 2, 2, 4, 2, 3, 3, 1, 4, 1, 2, 0, 0, 2, 2, 0, 0, 0, 0, 0, 3, 2, 0, 3, 4, 3, 2, 1, 2, 3, 2, 4, 0, 2, 0, 1, 4, 0, 3, 3, 4, 0, 0, 3, 4, 3, 0, 0, 4, 1, 4, 3, 4, 1, 2, 2, 0, 0, 3, 0, 2, 2, 4, 1, 4, 0, 1, 0, 1, 3, 3, 4, 2, 1, 0, 3, 3, 0, 1, 1, 4, 4, 0, 2, 4, 4, 1, 3, 1, 0, 2, 4, 1, 4, 3, 3, 2, 1, 0, 3, 1, 3, 4, 3, 3, 2, 1, 3, 1, 1, 2, 0, 2, 2, 1, 4, 4, 1, 1, 4, 0, 4, 0, 1, 3, 3, 0, 1, 4, 3, 1, 0, 1, 0, 4, 2, 3, 4, 2, 4, 4, 2, 2, 3, 2, 1, 2, 2, 2, 0, 2, 3, 3, 1, 3, 2, 2, 2, 3, 4, 0, 1, 1, 0, 4, 2, 2, 0, 3, 2, 1, 2, 1, 2, 2, 4, 2, 4, 2, 1, 0, 0, 4, 3, 2, 0, 2, 0, 0, 4, 0, 4, 0, 4, 3, 2, 0, 3, 3, 2, 4, 3, 4, 0, 2, 1, 2, 3, 4, 1, 4, 1, 4, 2, 1, 1, 3, 0, 1, 1, 1, 4, 3, 3, 4, 1, 0, 2, 4, 0, 0, 1, 3, 2, 0, 4, 4, 3, 3, 3, 3, 3, 0, 3, 1, 4, 3, 3, 2, 1, 0, 2, 1, 4, 1, 2, 0, 2, 3, 2, 0, 2, 2, 1, 0, 0, 0, 0, 1, 1, 3, 0, 0, 1, 0, 2, 1, 3, 3, 3, 1, 3, 0, 1, 0, 4, 0, 2, 3, 3, 4, 1, 1, 3, 4, 0, 3, 3, 3, 1, 1, 2, 1, 2, 1, 1, 0, 0, 1, 3, 0, 2, 2, 4, 2, 4, 3, 0, 1, 0, 1, 3, 3, 1, 4, 3, 1, 3, 4, 2, 0, 3, 2, 3, 4, 4, 3, 2, 0, 1, 0, 4, 0, 2, 0, 0, 4, 2, 3, 1, 3, 1, 0, 1, 4, 3, 4, 0, 0, 4, 3, 1, 3, 2, 1, 3, 0, 2, 2, 2, 0, 1, 4, 3, 3, 1, 2, 2, 3, 1, 1, 0, 2, 1, 1, 1, 2, 1, 2, 1, 4, 2, 1, 3, 1, 4, 3, 2, 2, 2, 3, 1, 1, 1, 0, 1, 3, 3, 2, 3, 4, 4, 1, 0, 3, 3, 3, 1, 2, 3, 0, 0, 0, 2, 2, 1, 2, 4, 2, 4, 4, 0, 4, 1, 3, 3, 1, 3, 4, 2, 1, 2, 2, 0, 4, 2, 4, 4, 3, 2, 1, 2, 2, 0, 1, 3, 2, 4, 4, 3, 4, 0, 3, 2, 0, 3, 4, 2, 4, 1, 3, 1, 4, 3, 0, 0, 3, 2, 1, 1, 4, 3, 3, 3, 4, 3, 0, 0, 1, 1, 3, 3, 0, 0, 3, 3, 3, 3, 3, 3, 2, 4, 0, 0, 1, 3, 2, 0, 0, 1, 3, 0, 0, 4, 2, 0, 2, 0, 4, 1, 3, 4, 0, 4, 4, 2, 0, 3, 4, 3, 4, 2, 4, 2, 2, 1, 2, 1, 1, 0, 3, 4, 3, 3, 4, 0, 4, 2, 4, 2, 1, 1, 0, 2, 3, 2, 1, 3, 1, 1, 4, 0, 1, 2, 0, 4, 2, 4, 4, 3, 2, 4, 4, 1, 2, 2, 1, 4, 0, 2, 2, 1, 4, 0, 2, 0, 2, 4, 4, 3, 4, 1, 2, 3, 1, 2, 1, 1, 2, 2, 3, 1, 0, 2, 4, 0, 2, 2, 2, 2, 0, 3, 2, 3, 1, 2, 0, 3, 2, 3, 2, 1, 2, 2, 3, 3, 4, 3, 4, 0, 1, 0, 0, 0, 4, 4, 3, 3, 2, 0, 0, 0, 4, 3, 2, 2, 3, 4, 1, 2, 4, 1, 0, 3, 3, 4, 1, 2, 2, 1, 2, 1, 4, 2, 1, 3, 0, 3, 4, 1, 2, 2, 2, 4, 4, 4, 1, 2, 2, 0, 4, 0, 2, 2, 2, 3, 4, 1, 3, 4, 1, 2, 4, 2, 3, 0, 0, 4, 3, 4, 3, 4, 1, 1, 3, 3, 2, 0, 0, 2, 2, 2, 1, 1, 3, 4, 0, 2, 2, 1, 1, 0, 1, 2, 2, 2, 3, 2, 3, 3, 3, 0, 0, 0, 2, 1, 3, 4, 1, 3, 0, 0, 2, 0, 3, 4, 2, 3, 2, 0, 2, 4, 0, 3, 3, 1, 0, 2, 1, 0, 0, 1, 2, 2, 2, 1, 2, 3, 0, 2, 4, 1, 1, 3, 0, 0, 4, 1, 0, 4, 1, 3, 0, 1, 4, 4, 2, 4, 2, 0, 4, 4, 4, 0, 2, 2, 2, 4, 2, 2, 3, 4, 1, 1, 3, 1, 3, 0, 4, 1, 0, 2, 0, 4, 4, 1, 2, 1, 3, 1, 3, 0, 0, 1, 3, 1, 3, 0, 0, 0, 1, 1, 4, 1, 4, 4, 4, 1, 3, 4, 3, 0, 1, 2, 2, 1, 4, 3, 0, 3, 1, 1, 1, 4, 0, 3, 0, 4, 3, 1, 2, 2, 3, 4, 1, 3, 0, 4, 3, 1, 3, 1, 0, 2, 1, 3, 1, 0, 3, 0, 1, 4, 2, 1, 2, 0, 3, 1, 3, 3, 2, 3, 1, 4, 2, 0, 1, 4, 0, 3, 0, 3, 4, 1, 0, 3, 2, 2, 2, 3, 0, 2, 4, 2, 3, 3, 2, 4, 2, 3, 1, 1, 2, 3, 0, 2, 1, 2, 2, 4, 4, 1, 1, 2, 4, 0, 1, 2, 3, 2, 2, 3, 0, 0, 4, 4, 0, 3, 4, 4, 0, 1, 2, 1, 4, 4, 2, 0, 0, 0, 2, 3, 0, 1, 4, 3, 0, 4, 0, 0, 1, 1, 2, 0, 1, 2, 2, 2, 2, 0, 0, 3, 0, 3, 2, 3, 1, 0, 0, 1, 4, 3, 3, 3, 2, 0, 0, 2, 1, 2, 1, 2, 0, 1, 0, 2, 3, 3, 3, 3, 3, 4, 0, 2, 2, 1, 4, 3, 0, 0, 3, 4, 3, 4, 3, 1, 2, 2, 3, 2, 4, 0, 0, 0, 0, 0, 4, 4, 3, 2, 0, 0, 1, 4, 3, 0, 2, 2, 4, 2, 1, 0, 2, 1, 2, 2, 2, 0, 1, 4, 3, 2, 3, 2, 4, 2, 3, 0, 2, 1, 3, 1, 1, 4, 0, 3, 1, 4, 4, 3, 2, 3, 4, 2, 3, 3, 1, 3, 0, 3, 2, 0, 3, 4, 0, 3, 2, 4, 0, 2, 3, 3, 3, 0, 4, 2, 2, 1, 2, 4, 4, 3, 4, 3, 0, 3, 3, 3, 0, 1, 1, 4, 1, 1, 3, 3, 4, 0, 0, 4, 3, 1, 2, 3, 0, 4, 4, 3, 3, 2, 3, 0, 2, 4, 1, 0, 2, 0, 1, 4, 3, 2, 0, 4, 1, 0, 3, 1, 4, 0, 4, 1, 1, 0, 3, 4, 4, 0, 0, 0, 2, 1, 4, 0, 2, 4, 1, 1, 3, 0, 2, 3, 1, 0, 4, 0, 1, 1, 4, 4, 0, 4, 4, 1, 1, 2, 0, 4, 2, 0, 1, 4, 0, 0, 1, 0, 3, 0, 1, 0, 1, 2, 2, 4, 1, 3, 3, 4, 0, 4, 0, 4, 2, 3, 4, 1, 1, 2, 2, 2, 3, 1, 1, 2, 2, 3, 2, 4, 3, 0, 1, 4, 1, 2, 1, 0, 1, 0, 1, 0, 3, 1, 4, 0, 4, 3, 2, 4, 4, 2, 1, 2, 1, 1, 4, 2, 2, 0, 4, 4, 4, 4, 0, 1, 2, 2, 4, 3, 1, 2, 4, 2, 4, 0, 1, 4, 0, 3, 1, 1, 2, 3, 2, 1, 4, 1, 1, 2, 2, 4, 4, 4, 1, 4, 1, 2, 3, 2, 4, 0, 4, 2, 2, 0, 3, 3, 4, 0, 2, 3, 4, 4, 4, 3, 0, 1, 3, 3, 0, 4, 0, 4, 4, 4, 4, 1, 1, 3, 1, 2, 1, 1, 3, 3, 1, 4, 0, 2, 0, 2, 0, 2, 2, 1, 0, 0, 4, 4, 0, 1, 4, 4, 2, 1, 0, 0, 4, 0, 4, 3, 2, 3, 3, 3, 2, 2, 0, 4, 1, 2, 0, 0, 1, 2, 3, 1, 1, 1, 3, 1, 3, 3, 1, 3, 4, 3, 4, 3, 1, 3, 0, 0, 1, 4, 2, 2, 4, 3, 4, 0, 3, 0, 1, 4, 0, 1, 0, 2, 4, 1, 1, 0, 3, 2, 0, 0, 1, 4, 1, 0, 4, 1, 1, 2, 2, 4, 2, 4, 1, 0, 2, 0, 0, 4, 1, 2, 2, 4, 1, 0, 0, 0, 2, 3, 1, 0, 0, 1, 4, 2, 1, 0, 2, 3, 0, 0, 1, 1, 4, 0, 0, 3, 1, 3, 0, 0, 4, 4, 4, 1, 0, 4, 4, 4, 0, 4, 0, 1, 3, 2, 1, 3, 0, 1, 0, 2, 1, 1, 1, 4, 1, 2, 2, 3, 3, 1, 0, 1, 2, 2, 4, 3, 2, 4, 4, 2, 3, 3, 4, 3, 3, 1, 3, 3, 3, 3, 4, 3, 4, 4, 2, 1, 2, 3, 1, 3, 2, 3, 1, 4, 0, 3, 4, 2, 2, 3, 2, 3, 1, 4, 1, 2, 0, 3, 2, 2, 2, 3, 0, 4, 1, 3, 2, 0, 3, 2, 0, 0, 3, 0, 4, 3, 4, 1, 4, 4, 2, 3, 3, 0, 3, 2, 0, 0, 1, 3, 0, 0, 3, 1, 1, 1, 0, 0, 3, 0, 1, 4, 3, 3, 2, 1, 4, 0, 4, 1, 0, 0, 1, 4, 0, 0, 3, 0, 0, 1, 0, 2, 4, 4, 2, 1, 2, 2, 2, 2, 4, 3, 1, 4, 2, 0, 1, 2, 0, 3, 1, 0, 4, 3, 4, 1, 2, 4, 2, 0, 2, 0, 1, 1, 3, 3, 4, 0, 1, 3, 0, 2, 1, 2, 1, 2, 1, 4, 0, 2, 0, 2, 3, 1, 1, 0, 3, 2, 1, 0, 4, 2, 1, 1, 3, 1, 1, 4, 0, 0, 3, 3, 1, 2, 3, 1, 4, 1, 3, 1, 3, 4, 3, 3, 0, 4, 2, 0, 0, 2, 1, 4, 0, 1, 2, 4, 1, 1, 3, 4, 1, 2, 3, 3, 2, 0, 4, 1, 3, 4, 1, 4, 0, 3, 2, 0, 4, 2, 3, 1, 2, 1, 2, 2, 1, 2, 1, 2, 0, 3, 4, 1, 0, 4, 2, 1, 2, 0, 2, 4, 2, 0, 1, 2, 2, 4, 2, 3, 1, 4, 3, 1, 4, 0, 3, 0, 1, 0, 1, 0, 3, 0, 2, 0, 2, 2, 0, 4, 2, 2, 1, 4, 2, 2, 4, 0, 0, 1, 3, 0, 0, 0, 2, 1, 2, 0, 4, 0, 0, 3, 4, 3, 4, 0, 0, 1, 4, 0, 1, 3, 1, 1, 1, 4, 1, 2, 0, 0, 0, 1, 4, 3, 3, 2, 2, 3, 0, 0, 2, 3, 0, 0, 4, 0, 0, 4, 0, 2, 1, 1, 0, 3, 0, 0, 3, 0, 0, 4, 1, 2, 1, 4, 1, 4, 2, 3, 4, 1, 2, 1, 4, 4, 0, 4, 4, 2, 3, 2, 2, 0, 1, 3, 1, 3, 1, 3, 2, 3, 0, 4, 0, 4, 1, 4, 2, 2, 0, 1, 2, 1, 2, 4, 2, 4, 4, 1, 0, 2, 4, 0, 3, 2, 0, 0, 3, 2, 2, 1, 3, 1, 2, 1, 1, 3, 2, 2, 3, 0, 3, 3, 0, 2, 0, 1, 0, 4, 3, 4, 1, 0, 2, 3, 1, 0, 3, 2, 4, 3, 3, 1, 2, 0, 0, 3, 4, 4, 4, 1, 0, 4, 3, 1, 2, 3, 1, 0, 3, 2, 3, 3, 2, 4, 1, 4, 3, 2, 2, 0, 2, 4, 3, 2, 3, 2, 4, 2, 4, 1, 2, 3, 1, 2, 3, 4, 4, 1, 1, 2, 3, 2, 1, 2, 3, 4, 0, 4, 0, 2, 0, 3, 4, 0, 2, 1, 2, 1, 1, 4, 0, 1, 0, 4, 3, 3, 1, 1, 2, 2, 4, 3, 1, 0, 0, 3, 0, 2, 2, 0, 2, 0, 2, 0, 2, 3, 4, 4, 4, 2, 2, 4, 2, 3, 2, 2, 4, 1, 2, 2, 3, 1, 2, 4, 1, 2, 1, 1, 0, 2, 3, 3, 4, 0, 1, 0, 2, 2, 0, 0, 3, 4, 3, 4, 4, 1, 1, 3, 2, 2, 2, 2, 1, 2, 3, 2, 2, 1, 4, 4, 1, 3, 1, 4, 3, 2, 3, 0, 4, 3, 1, 3, 1, 4, 1, 2, 1, 0, 2, 1, 2, 1, 1, 3, 4, 0, 3, 1, 2, 2, 3, 2, 1, 3, 1, 0, 0, 2, 4, 2, 2, 1, 2, 1, 0, 2, 0, 1, 1, 4, 1, 1, 4, 3, 2, 3, 1, 3, 0, 0, 3, 2, 3, 4, 3, 0, 4, 4, 1, 1, 0, 3, 0, 4, 4, 3, 0, 4, 4, 0, 1, 0, 1, 3, 0, 0, 1, 0, 1, 1, 3, 0, 1, 0, 3, 4, 2, 3, 0, 3, 4, 3, 0, 1, 2, 0, 2, 3, 0, 0, 1, 4, 4, 4, 3, 0, 1, 2, 3, 3, 1, 3, 1, 4]\n"
     ]
    }
   ],
   "source": [
    "pred=[]\n",
    "for i in range(len(prediction)):\n",
    "    pred.append(np.argmax(prediction[i]))\n",
    "print(pred)"
   ]
  },
  {
   "cell_type": "code",
   "execution_count": 17,
   "id": "6c88c8be",
   "metadata": {},
   "outputs": [
    {
     "name": "stdout",
     "output_type": "stream",
     "text": [
      "[2, 3, 4, 3, 1, 2, 2, 1, 1, 4, 2, 1, 3, 1, 3, 4, 0, 4, 1, 1, 3, 3, 0, 1, 4, 4, 0, 0, 3, 3, 1, 1, 2, 3, 2, 0, 2, 3, 4, 0, 1, 4, 4, 1, 4, 4, 1, 3, 2, 1, 1, 4, 0, 4, 0, 1, 4, 1, 2, 3, 1, 2, 0, 4, 2, 4, 0, 4, 2, 4, 4, 2, 1, 0, 3, 4, 2, 0, 3, 4, 3, 2, 3, 3, 2, 2, 1, 4, 4, 2, 3, 4, 4, 2, 2, 1, 1, 4, 0, 4, 2, 4, 4, 2, 2, 3, 4, 4, 1, 2, 3, 4, 0, 1, 2, 0, 3, 4, 2, 2, 4, 3, 4, 2, 1, 4, 3, 0, 0, 3, 3, 2, 2, 3, 2, 4, 0, 0, 1, 4, 3, 1, 4, 0, 4, 1, 2, 1, 1, 4, 4, 4, 4, 3, 2, 0, 3, 0, 2, 4, 1, 4, 1, 4, 2, 2, 3, 1, 3, 0, 0, 1, 4, 0, 4, 2, 1, 2, 1, 4, 3, 2, 4, 3, 0, 1, 1, 4, 0, 3, 3, 4, 0, 2, 1, 1, 3, 4, 1, 0, 2, 3, 2, 1, 2, 2, 1, 0, 1, 3, 3, 0, 0, 3, 4, 3, 4, 3, 3, 1, 4, 2, 3, 0, 1, 2, 2, 0, 0, 3, 3, 2, 2, 2, 1, 4, 1, 4, 1, 2, 1, 1, 3, 1, 2, 1, 2, 0, 2, 3, 3, 3, 0, 0, 3, 2, 2, 2, 0, 0, 0, 1, 0, 1, 2, 0, 1, 3, 3, 3, 3, 0, 3, 0, 3, 0, 3, 4, 0, 0, 4, 1, 0, 0, 2, 1, 1, 2, 4, 3, 2, 3, 4, 1, 1, 3, 3, 1, 1, 3, 1, 0, 1, 3, 0, 3, 4, 4, 4, 3, 0, 3, 1, 2, 3, 2, 4, 0, 3, 0, 0, 4, 4, 1, 0, 2, 1, 3, 4, 1, 2, 0, 0, 3, 3, 4, 4, 4, 1, 0, 1, 1, 2, 3, 0, 4, 3, 1, 4, 1, 1, 2, 0, 2, 1, 2, 4, 3, 4, 3, 4, 2, 4, 1, 1, 0, 3, 3, 3, 1, 0, 4, 2, 4, 2, 1, 2, 3, 0, 4, 1, 2, 3, 1, 3, 1, 4, 3, 2, 3, 3, 4, 4, 4, 0, 4, 3, 4, 4, 3, 3, 2, 4, 3, 2, 0, 1, 2, 2, 1, 0, 4, 3, 2, 2, 3, 0, 3, 4, 0, 4, 4, 2, 3, 1, 1, 0, 0, 0, 1, 3, 0, 4, 0, 1, 4, 0, 2, 4, 1, 3, 0, 1, 3, 3, 0, 1, 3, 1, 3, 0, 3, 4, 4, 0, 4, 2, 2, 1, 3, 0, 1, 2, 4, 4, 1, 1, 0, 2, 3, 2, 1, 3, 4, 3, 1, 1, 1, 3, 3, 0, 3, 2, 0, 2, 1, 3, 4, 2, 0, 4, 4, 2, 0, 3, 4, 4, 3, 0, 0, 1, 1, 2, 2, 2, 3, 4, 0, 3, 0, 3, 2, 4, 4, 0, 3, 0, 0, 0, 4, 1, 1, 3, 4, 1, 3, 2, 2, 1, 3, 3, 4, 4, 3, 2, 3, 1, 0, 1, 1, 1, 0, 0, 4, 4, 4, 0, 3, 4, 2, 4, 0, 2, 3, 0, 3, 1, 4, 1, 0, 4, 0, 1, 1, 4, 4, 3, 4, 3, 2, 1, 2, 4, 2, 3, 2, 3, 3, 4, 1, 0, 2, 1, 0, 0, 1, 2, 0, 2, 3, 1, 0, 3, 0, 3, 4, 0, 2, 0, 3, 4, 3, 3, 3, 3, 4, 3, 0, 0, 0, 0, 2, 0, 0, 3, 0, 2, 3, 1, 4, 1, 1, 3, 0, 1, 1, 3, 3, 4, 1, 1, 1, 3, 3, 3, 0, 0, 2, 3, 1, 4, 2, 3, 4, 2, 0, 1, 1, 1, 2, 0, 0, 4, 2, 4, 2, 2, 2, 0, 4, 4, 3, 3, 1, 2, 1, 4, 4, 2, 1, 3, 2, 2, 2, 3, 3, 0, 2, 4, 0, 4, 1, 0, 1, 0, 3, 2, 4, 3, 4, 3, 2, 0, 0, 3, 2, 3, 3, 1, 4, 0, 0, 4, 3, 2, 3, 4, 2, 4, 1, 2, 1, 4, 1, 0, 2, 1, 3, 2, 2, 1, 0, 0, 0, 2, 2, 0, 2, 0, 2, 1, 1, 2, 2, 0, 4, 2, 4, 4, 1, 1, 0, 3, 4, 0, 0, 4, 4, 3, 2, 3, 1, 4, 0, 3, 2, 2, 0, 1, 0, 2, 3, 2, 2, 0, 0, 4, 4, 0, 0, 2, 1, 1, 1, 0, 1, 2, 3, 3, 1, 3, 1, 0, 1, 3, 2, 2, 0, 0, 2, 2, 2, 3, 3, 3, 1, 0, 2, 2, 4, 2, 0, 2, 2, 1, 3, 2, 4, 4, 1, 3, 0, 3, 0, 4, 3, 3, 3, 0, 4, 3, 4, 4, 1, 3, 2, 1, 2, 4, 4, 2, 0, 1, 0, 0, 2, 2, 1, 3, 3, 2, 4, 1, 4, 2, 2, 2, 1, 3, 0, 3, 3, 3, 4, 0, 1, 4, 4, 2, 4, 4, 0, 2, 3, 3, 0, 3, 4, 1, 3, 4, 0, 2, 3, 4, 2, 1, 4, 4, 1, 2, 3, 0, 1, 4, 2, 0, 1, 3, 0, 1, 0, 4, 3, 4, 0, 1, 0, 1, 1, 4, 3, 2, 3, 4, 4, 1, 2, 3, 1, 0, 0, 1, 3, 2, 3, 4, 0, 3, 3, 0, 1, 3, 1, 3, 1, 4, 2, 4, 0, 2, 2, 4, 4, 4, 0, 1, 4, 2, 3, 3, 0, 0, 0, 3, 4, 4, 4, 1, 3, 3, 4, 4, 2, 4, 0, 2, 2, 2, 1, 0, 1, 1, 1, 1, 2, 4, 4, 1, 2, 4, 4, 1, 4, 1, 2, 0, 4, 4, 2, 1, 3, 1, 2, 3, 2, 2, 4, 0, 1, 4, 2, 2, 1, 0, 3, 4, 3, 1, 1, 0, 3, 0, 1, 4, 1, 1, 0, 2, 1, 2, 1, 2, 4, 2, 4, 4, 0, 1, 0, 2, 0, 2, 1, 1, 1, 3, 1, 4, 4, 0, 2, 4, 2, 1, 3, 0, 4, 2, 0, 0, 2, 0, 4, 4, 2, 0, 2, 4, 0, 2, 3, 4, 3, 1, 0, 1, 1, 3, 2, 3, 3, 2, 2, 4, 4, 2, 4, 1, 3, 2, 3, 1, 3, 3, 4, 4, 1, 2, 3, 2, 4, 0, 0, 1, 4, 1, 4, 2, 4, 4, 2, 3, 3, 2, 1, 0, 4, 2, 1, 0, 4, 0, 2, 0, 0, 1, 3, 2, 2, 0, 1, 1, 1, 2, 0, 1, 3, 1, 4, 4, 1, 0, 4, 2, 4, 2, 1, 0, 1, 4, 4, 2, 4, 2, 4, 1, 4, 1, 1, 0, 4, 3, 2, 1, 4, 0, 2, 4, 2, 2, 3, 2, 4, 0, 0, 1, 4, 4, 2, 4, 1, 4, 0, 4, 1, 3, 0, 1, 2, 4, 3, 1, 1, 4, 4, 3, 0, 3, 4, 0, 2, 1, 0, 4, 0, 2, 4, 3, 1, 3, 1, 2, 0, 1, 1, 2, 2, 2, 1, 1, 3, 2, 1, 2, 4, 4, 2, 0, 0, 2, 3, 0, 0, 2, 1, 4, 0, 2, 2, 4, 1, 1, 3, 2, 0, 1, 1, 4, 4, 0, 2, 4, 0, 3, 2, 0, 1, 3, 3, 4, 0, 1, 2, 2, 0, 4, 4, 3, 0, 3, 1, 3, 1, 0, 1, 2, 4, 3, 1, 4, 1, 1, 0, 1, 2, 1, 0, 1, 0, 3, 4, 1, 3, 0, 4, 2, 4, 0, 4, 4, 1, 1, 0, 0, 2, 1, 4, 1, 4, 2, 2, 4, 3, 1, 3, 1, 0, 4, 4, 0, 0, 2, 3, 3, 4, 0, 1, 3, 1, 4, 0, 4, 0, 4, 4, 4, 0, 3, 3, 2, 4, 0, 3, 3, 2, 1, 2, 0, 3, 3, 4, 3, 3, 2, 3, 4, 3, 0, 2, 2, 1, 0, 4, 3, 2, 3, 4, 0, 4, 0, 4, 0, 4, 1, 4, 4, 0, 0, 0, 2, 3, 0, 4, 3, 0, 0, 2, 4, 2, 1, 2, 4, 0, 0, 0, 3, 0, 0, 3, 4, 2, 1, 1, 2, 4, 2, 0, 0, 4, 3, 0, 4, 3, 4, 0, 2, 0, 0, 3, 1, 0, 2, 0, 1, 3, 1, 1, 3, 4, 1, 2, 2, 2, 4, 2, 0, 3, 0, 1, 1, 4, 3, 4, 0, 4, 1, 0, 1, 3, 0, 0, 2, 2, 1, 3, 2, 4, 4, 2, 1, 4, 4, 4, 1, 0, 2, 4, 2, 4, 4, 0, 1, 1, 0, 0, 2, 4, 3, 0, 0, 0, 2, 4, 4, 1, 0, 2, 2, 2, 3, 2, 4, 3, 2, 0, 2, 1, 1, 0, 3, 4, 4, 3, 3, 3, 4, 1, 3, 4, 1, 3, 4, 0, 1, 4, 1, 2, 2, 3, 0, 3, 0, 0, 4, 2, 2, 4, 1, 1, 3, 1, 2, 0, 3, 3, 1, 1, 3, 1, 2, 2, 0, 0, 1, 4, 3, 2, 4, 4, 2, 4, 3, 2, 2, 1, 0, 4, 3, 1, 0, 0, 4, 3, 0, 2, 2, 3, 0, 3, 2, 3, 0, 0, 4, 2, 2, 0, 1, 3, 3, 0, 3, 1, 2, 1, 1, 2, 1, 4, 2, 2, 1, 0, 2, 3, 1, 2, 1, 0, 3, 2, 0, 4, 4, 1, 3, 0, 1, 0, 1, 3, 1, 2, 3, 0, 1, 2, 2, 0, 0, 1, 2, 0, 4, 0, 0, 2, 1, 2, 4, 4, 0, 1, 2, 1, 4, 3, 1, 1, 0, 4, 1, 4, 1, 3, 3, 0, 0, 4, 4, 2, 0, 1, 4, 3, 3, 1, 2, 4, 2, 3, 1, 4, 3, 4, 1, 2, 0, 2, 4, 4, 2, 2, 2, 2, 0, 1, 0, 0, 4, 0, 0, 1, 2, 3, 1, 3, 4, 4, 2, 1, 4, 0, 2, 3, 0, 2, 0, 2, 3, 0, 1, 4, 0, 3, 3, 4, 1, 4, 4, 2, 1, 0, 4, 2, 1, 4, 0, 0, 1, 3, 3, 4, 3, 1, 2, 2, 2, 0, 1, 4, 3, 3, 1, 3, 4, 0, 0, 2, 1, 4, 3, 2, 0, 1, 3, 2, 1, 4, 2, 1, 3, 1, 0, 3, 2, 3, 0, 0, 3, 0, 0, 1, 1, 0, 4, 2, 3, 4, 3, 3, 1, 3, 4, 0, 1, 3, 4, 2, 0, 4, 0, 4, 0, 4, 2, 3, 0, 4, 1, 4, 4, 0, 4, 1, 0, 2, 2, 1, 0, 1, 2, 4, 2, 3, 0, 4, 3, 0, 1, 3, 4, 1, 3, 3, 3, 2, 0, 2, 3, 2, 2, 1, 3, 2, 3, 4, 0, 4, 1, 2, 4, 1, 2, 0, 1, 3, 3, 1, 0, 3, 0, 2, 1, 2, 3, 1, 0, 0, 3, 4, 1, 4, 4, 0, 1, 1, 3, 4, 2, 4, 2, 2, 2, 0, 4, 2, 2, 3, 2, 1, 3, 3, 4, 1, 0, 0, 1, 4, 2, 3, 1, 2, 1, 1, 1, 2, 2, 2, 3, 2, 0, 2, 4, 0, 1, 1, 0, 3, 3, 3, 3, 4, 2, 3, 4, 0, 4, 2, 0, 3, 3, 2, 4, 0, 3, 1, 3, 1, 1, 4, 3, 3, 1, 2, 1, 1, 1, 2, 2, 0, 3, 4, 4, 2, 2, 4, 4, 2, 2, 2, 2, 0, 3, 1, 2, 4, 3, 1, 3, 0, 3, 2, 2, 3, 3, 3, 4, 1, 1, 0, 3, 0, 0, 2, 2, 1, 3, 4, 1, 4, 2, 3, 3, 3, 3, 3, 3, 3, 2, 3, 3, 2, 4, 3, 2, 2, 2, 4, 3, 3, 0, 3, 3, 4, 3, 0, 0, 2, 1, 1, 2, 1, 4, 1, 3, 4, 4, 1, 2, 1, 4, 0, 4, 4, 0, 2, 1, 0, 4, 0, 3, 2, 1, 4, 1, 1, 3, 0, 0, 3, 0, 1, 0, 3, 1, 3, 4, 2, 1, 4, 4, 1, 1, 0, 0, 2, 1, 1, 2, 0, 4, 1, 1, 3, 4, 0, 3, 4, 1, 4, 3, 1, 2, 1, 3, 1, 3, 4, 3, 1, 0, 2, 1, 0, 2, 2, 1, 3, 2, 1, 4, 0, 2, 3, 0, 2, 1, 2, 2, 0, 2, 4, 1, 1, 1, 3, 2, 4, 3, 4, 1, 4, 2, 3, 2, 4, 4, 1, 2, 1, 1, 2, 1, 3, 4, 4, 0, 4, 1, 0, 1, 1, 3, 1, 4, 4, 0, 4, 3, 0, 1, 0, 2, 3, 0, 0, 1, 4, 1, 3, 4, 1, 4, 4, 3, 1, 3, 0, 4, 2, 3, 1, 1, 4, 2, 0, 4, 1, 4, 2, 4, 4, 3, 3, 0, 0, 2, 3, 4, 3, 2, 4, 4, 2, 2, 0, 1, 0, 2, 0, 3, 4, 1, 0, 3, 3, 3, 2, 1, 0, 4, 4, 2, 1, 1, 1, 2, 4, 2, 4, 0, 2, 0, 3, 4, 1, 3, 1, 4, 3, 4, 1, 0, 2, 3, 1, 2, 1, 1, 3, 0, 0, 3, 2, 2, 1, 3, 3, 4, 4, 4, 3, 3, 2, 3, 2, 2, 3, 4, 2, 4, 3, 0, 4, 4, 0, 1, 4, 1, 3, 2, 0, 1, 2, 3, 1, 4, 0, 3, 1, 2, 2, 0, 2, 1, 4, 2, 0, 0, 0, 3, 3, 0, 0, 4, 3, 0, 4, 3, 4, 4, 1, 3, 3, 3, 1, 2, 0, 0, 2, 4, 3, 3, 1, 2, 3, 2, 4, 0, 0, 0, 4, 3, 2, 2, 3, 3, 4, 1, 4, 3, 3, 4, 3, 4, 0, 3, 3, 3, 3, 3, 1, 4, 2, 0, 4, 3, 4, 0, 4, 2, 3, 0, 2, 2, 0, 3, 2, 2, 3, 4, 3, 2, 2, 2, 4, 0, 3, 0, 2, 3, 3, 4, 4, 1, 1, 1, 4, 4, 0, 0, 0, 3, 4, 1, 2, 4, 2, 4, 2, 1, 3, 2, 0, 0, 3, 1, 4, 3, 3, 2, 3, 4, 4, 1, 0, 1, 1, 1, 1, 2, 4, 3, 1, 1, 0, 3, 3, 3, 3, 1, 0, 2, 3, 0, 3, 4, 1, 2, 0, 2, 2, 1, 2, 2, 2, 1, 3, 4, 1, 1, 4, 3, 4, 0, 2, 3, 0, 2, 0, 0, 3, 1, 1, 3, 4, 2, 4, 4, 0, 4, 1, 2, 1, 4, 2, 0, 0, 1, 1, 1, 1, 4, 0, 4, 2, 0, 4, 4, 0, 0, 4, 3, 4, 3, 2, 3, 0, 0, 2, 0, 0, 2, 2, 3, 4, 1, 4, 2, 1, 1, 2, 2, 0, 4, 0, 4, 2, 4, 0, 4, 2, 2, 3, 3, 1, 2, 1, 0, 2, 2, 0, 0, 2, 4, 2, 3, 0, 0, 1, 4, 0, 4, 3, 1, 1, 3, 4, 3, 3, 3, 1, 0, 2, 1, 3, 1, 4, 2, 0, 0, 3, 4, 1, 0, 3, 4, 0, 2, 4, 2, 4, 1, 2, 0, 4, 2, 3, 0, 1, 1, 0, 3, 2, 0, 4, 0, 4, 4, 4, 1, 0, 3, 1, 2, 0, 1, 1, 2, 2, 4, 4, 2, 3, 2, 4, 3, 1, 3, 1, 2, 0, 2, 0, 1, 2, 0, 1, 3, 1, 0, 2, 3, 0, 4, 2, 3, 4, 1, 3, 3, 1, 2, 0, 0, 1, 3, 4, 0, 1, 4, 0, 4, 4, 2, 0, 2, 2, 2, 3, 3, 1, 2, 1, 4, 0, 3, 4, 1, 4, 2, 0, 1, 0, 3, 2, 4, 4, 2, 0, 3, 2, 2, 3, 1, 1, 0, 2, 3, 4, 0, 0, 3, 3, 3, 0, 1, 4, 3, 3, 0, 0, 3, 2, 2, 2, 1, 3, 1, 4, 0, 0, 1, 0, 0, 0, 4, 1, 3, 2, 2, 4, 4, 2, 1, 2, 3, 3, 3, 4, 0, 4, 1, 1, 4, 4, 3, 4, 4, 0, 1, 0, 4, 4, 2, 3, 3, 1, 0, 2, 3, 2, 4, 0, 0, 3, 4, 0, 3, 2, 0, 3, 0, 3, 4, 4, 4, 3, 2, 3, 4, 0, 1, 2, 0, 3, 3, 1, 3, 4, 2, 0, 3, 3, 3, 1, 2, 4, 4, 1, 2, 2, 2, 0, 1, 1, 2, 4, 0, 1, 4, 1, 0, 4, 3, 4, 3, 0, 3, 1, 0, 0, 1, 3, 0, 0, 4, 0, 1, 0, 1, 0, 0, 0, 3, 2, 1, 3, 3, 4, 0, 3, 3, 1, 3, 2, 0, 0, 0, 4, 3, 2, 2, 4, 2, 3, 3, 1, 4, 1, 2, 0, 0, 2, 2, 0, 0, 0, 0, 0, 3, 2, 0, 3, 4, 3, 2, 1, 4, 3, 2, 4, 0, 2, 0, 1, 4, 0, 3, 3, 4, 0, 0, 3, 4, 3, 0, 0, 4, 1, 4, 3, 4, 1, 2, 2, 0, 0, 3, 0, 2, 2, 4, 1, 4, 0, 1, 0, 1, 3, 3, 4, 2, 1, 0, 3, 3, 0, 1, 1, 4, 4, 0, 2, 4, 4, 1, 3, 1, 0, 2, 4, 1, 4, 3, 3, 2, 1, 0, 3, 1, 3, 4, 3, 3, 2, 1, 3, 1, 1, 2, 0, 2, 4, 1, 4, 4, 1, 1, 4, 0, 4, 0, 1, 3, 3, 0, 1, 4, 3, 1, 0, 1, 0, 4, 2, 3, 4, 2, 4, 4, 2, 2, 3, 2, 1, 2, 2, 2, 0, 0, 3, 3, 1, 3, 2, 2, 2, 3, 4, 0, 1, 1, 0, 4, 2, 2, 0, 3, 2, 1, 2, 1, 2, 2, 4, 2, 4, 2, 1, 0, 0, 4, 3, 2, 0, 2, 0, 0, 4, 0, 4, 0, 4, 3, 2, 0, 3, 3, 2, 4, 3, 4, 0, 2, 1, 2, 3, 4, 1, 4, 1, 4, 2, 1, 1, 3, 0, 1, 1, 1, 4, 3, 3, 4, 1, 0, 2, 4, 0, 0, 1, 3, 2, 0, 4, 4, 3, 3, 3, 3, 3, 0, 3, 1, 4, 3, 3, 2, 1, 0, 2, 1, 4, 1, 2, 0, 4, 3, 0, 0, 2, 2, 1, 0, 0, 0, 0, 1, 1, 3, 0, 0, 1, 0, 2, 1, 3, 3, 3, 1, 3, 0, 1, 0, 4, 0, 2, 3, 3, 4, 1, 1, 3, 4, 0, 3, 3, 3, 1, 1, 2, 1, 2, 1, 1, 0, 0, 1, 3, 0, 2, 2, 4, 2, 4, 3, 0, 1, 0, 1, 3, 0, 1, 4, 3, 1, 3, 4, 2, 0, 3, 2, 3, 4, 4, 3, 2, 0, 1, 0, 4, 0, 2, 0, 0, 4, 2, 3, 1, 3, 1, 0, 1, 4, 3, 4, 2, 0, 4, 3, 1, 3, 2, 1, 3, 0, 2, 2, 2, 0, 1, 4, 3, 3, 1, 2, 2, 3, 1, 1, 0, 2, 1, 1, 1, 2, 1, 2, 1, 4, 2, 1, 3, 1, 4, 3, 2, 2, 2, 3, 1, 1, 1, 0, 1, 3, 3, 2, 3, 4, 4, 1, 0, 3, 3, 3, 1, 2, 3, 0, 0, 0, 2, 2, 1, 2, 4, 2, 4, 4, 0, 4, 1, 3, 3, 1, 3, 4, 2, 1, 2, 2, 0, 4, 2, 4, 4, 3, 2, 1, 2, 2, 0, 1, 3, 2, 4, 4, 3, 4, 0, 3, 2, 0, 3, 4, 2, 4, 1, 3, 1, 4, 3, 2, 0, 3, 2, 1, 1, 4, 3, 3, 3, 4, 3, 0, 0, 1, 1, 3, 3, 0, 0, 3, 3, 3, 3, 3, 3, 2, 4, 0, 0, 1, 3, 2, 0, 0, 1, 3, 0, 0, 4, 2, 0, 2, 0, 4, 1, 3, 4, 0, 4, 4, 2, 0, 3, 4, 3, 4, 2, 4, 2, 4, 1, 2, 1, 1, 0, 3, 4, 3, 3, 4, 0, 4, 2, 4, 2, 1, 1, 0, 2, 3, 2, 1, 3, 1, 1, 4, 0, 1, 2, 0, 4, 2, 4, 4, 3, 2, 4, 4, 1, 2, 2, 1, 4, 0, 2, 2, 1, 4, 0, 2, 0, 2, 4, 4, 3, 4, 1, 2, 3, 1, 2, 1, 1, 2, 2, 3, 1, 0, 2, 4, 0, 2, 2, 2, 2, 0, 3, 2, 3, 1, 2, 0, 3, 2, 3, 2, 1, 2, 2, 3, 3, 4, 3, 4, 0, 1, 0, 0, 0, 4, 4, 3, 3, 4, 0, 0, 0, 4, 3, 2, 2, 3, 4, 1, 2, 4, 1, 0, 3, 3, 4, 1, 2, 2, 1, 0, 1, 4, 2, 1, 3, 0, 3, 4, 1, 2, 2, 2, 4, 4, 4, 1, 2, 2, 0, 4, 0, 2, 2, 2, 3, 4, 1, 3, 4, 1, 2, 4, 2, 3, 0, 0, 4, 3, 4, 3, 4, 1, 1, 3, 3, 2, 0, 0, 2, 2, 2, 1, 1, 3, 4, 0, 2, 2, 1, 1, 0, 1, 2, 0, 2, 3, 4, 3, 3, 3, 0, 0, 0, 2, 1, 3, 4, 1, 3, 0, 0, 2, 0, 3, 4, 2, 3, 2, 0, 2, 4, 0, 3, 3, 1, 0, 2, 1, 0, 0, 1, 2, 4, 2, 1, 2, 3, 0, 2, 4, 1, 1, 3, 0, 0, 4, 1, 0, 4, 1, 3, 0, 1, 4, 4, 2, 4, 2, 0, 4, 4, 4, 0, 2, 2, 2, 4, 2, 2, 3, 4, 1, 1, 3, 1, 3, 0, 4, 1, 0, 2, 0, 4, 4, 1, 4, 1, 3, 1, 3, 0, 0, 1, 3, 1, 3, 0, 4, 0, 1, 1, 4, 1, 4, 4, 0, 1, 3, 4, 3, 0, 1, 2, 2, 1, 4, 3, 0, 3, 1, 1, 1, 4, 0, 3, 0, 4, 3, 1, 2, 4, 3, 4, 1, 3, 0, 4, 3, 1, 3, 1, 0, 2, 1, 3, 1, 0, 3, 0, 1, 4, 2, 1, 2, 0, 3, 1, 3, 3, 2, 3, 1, 4, 2, 0, 1, 4, 0, 3, 0, 3, 4, 1, 0, 3, 2, 2, 2, 3, 0, 2, 4, 4, 3, 3, 2, 4, 2, 3, 1, 1, 2, 3, 0, 2, 1, 2, 2, 4, 4, 1, 1, 2, 4, 0, 1, 2, 3, 2, 2, 3, 0, 0, 4, 4, 4, 3, 4, 4, 0, 1, 0, 1, 4, 4, 2, 0, 0, 0, 2, 3, 0, 1, 4, 3, 4, 4, 0, 0, 1, 1, 2, 0, 1, 2, 2, 2, 2, 0, 0, 3, 0, 3, 2, 3, 1, 0, 0, 1, 4, 3, 3, 3, 2, 0, 0, 2, 1, 2, 1, 2, 0, 1, 0, 2, 3, 3, 3, 3, 3, 4, 0, 2, 2, 1, 4, 3, 0, 0, 3, 4, 3, 4, 3, 1, 2, 2, 3, 2, 4, 2, 0, 0, 0, 0, 4, 4, 3, 4, 0, 0, 1, 4, 3, 0, 2, 2, 4, 2, 1, 0, 2, 1, 2, 2, 2, 0, 1, 4, 3, 2, 3, 2, 4, 2, 3, 0, 2, 1, 3, 1, 1, 4, 0, 3, 1, 2, 4, 3, 2, 3, 4, 2, 3, 3, 1, 3, 0, 3, 2, 0, 3, 4, 0, 3, 2, 4, 0, 2, 3, 3, 3, 0, 4, 2, 2, 1, 2, 4, 4, 3, 4, 3, 3, 3, 3, 3, 0, 1, 1, 4, 1, 1, 3, 3, 4, 0, 0, 4, 3, 1, 2, 3, 0, 4, 4, 0, 3, 2, 3, 0, 2, 4, 1, 0, 2, 0, 1, 4, 3, 2, 0, 4, 1, 0, 3, 1, 4, 0, 4, 1, 1, 0, 3, 4, 4, 0, 0, 0, 2, 1, 4, 0, 2, 4, 1, 1, 3, 0, 2, 3, 1, 0, 4, 0, 1, 1, 4, 4, 0, 4, 4, 1, 1, 2, 0, 4, 2, 0, 1, 4, 0, 0, 1, 0, 3, 0, 1, 0, 1, 2, 2, 4, 1, 3, 3, 4, 0, 4, 0, 4, 2, 3, 4, 1, 1, 2, 2, 2, 3, 1, 1, 2, 2, 3, 2, 4, 3, 0, 1, 4, 1, 2, 1, 0, 1, 0, 1, 0, 3, 1, 4, 0, 4, 3, 2, 4, 4, 2, 1, 2, 1, 1, 4, 2, 2, 0, 4, 4, 4, 0, 0, 1, 2, 2, 4, 3, 1, 2, 4, 2, 4, 0, 1, 4, 0, 3, 1, 1, 2, 3, 2, 1, 4, 1, 1, 2, 2, 4, 4, 4, 1, 4, 1, 2, 3, 2, 4, 0, 4, 2, 2, 0, 3, 3, 0, 0, 2, 3, 4, 4, 4, 3, 0, 1, 3, 3, 0, 4, 0, 4, 4, 4, 4, 1, 1, 3, 1, 2, 1, 1, 3, 3, 1, 4, 0, 2, 0, 2, 0, 2, 2, 1, 0, 0, 4, 4, 0, 1, 4, 4, 4, 1, 0, 2, 4, 0, 4, 3, 2, 3, 3, 3, 2, 2, 0, 4, 1, 2, 0, 2, 1, 2, 3, 1, 1, 1, 3, 1, 3, 3, 1, 3, 4, 3, 4, 3, 1, 3, 0, 0, 1, 4, 2, 2, 4, 3, 4, 4, 3, 0, 1, 4, 0, 1, 0, 2, 4, 1, 1, 0, 3, 2, 0, 0, 1, 4, 1, 0, 4, 1, 1, 2, 2, 4, 2, 4, 1, 0, 2, 0, 0, 4, 1, 2, 2, 4, 1, 0, 0, 0, 2, 3, 1, 0, 0, 1, 4, 2, 1, 0, 2, 3, 0, 0, 1, 1, 4, 4, 0, 3, 1, 3, 0, 0, 4, 4, 4, 1, 0, 4, 4, 4, 0, 4, 0, 1, 3, 0, 1, 3, 0, 1, 0, 2, 1, 1, 1, 4, 1, 2, 2, 3, 3, 1, 0, 1, 2, 2, 4, 3, 2, 2, 4, 2, 3, 3, 4, 3, 3, 1, 3, 3, 3, 3, 4, 3, 4, 4, 4, 1, 2, 3, 1, 3, 2, 3, 1, 4, 0, 3, 4, 2, 2, 3, 2, 3, 1, 4, 1, 2, 0, 3, 2, 2, 2, 3, 0, 4, 1, 3, 2, 0, 3, 2, 0, 0, 3, 0, 4, 3, 4, 1, 4, 4, 2, 3, 3, 0, 3, 4, 0, 0, 1, 3, 0, 0, 3, 1, 1, 1, 0, 0, 3, 0, 1, 4, 3, 3, 2, 1, 4, 0, 4, 1, 0, 2, 1, 4, 0, 0, 3, 0, 0, 1, 0, 2, 4, 4, 2, 1, 2, 2, 2, 2, 4, 3, 1, 4, 2, 0, 1, 2, 0, 3, 1, 0, 4, 3, 4, 1, 2, 4, 0, 0, 2, 0, 1, 1, 3, 3, 4, 0, 1, 3, 0, 2, 1, 2, 1, 2, 1, 4, 0, 2, 0, 2, 3, 1, 1, 0, 3, 2, 1, 0, 4, 2, 1, 1, 3, 1, 1, 2, 0, 0, 3, 3, 1, 2, 3, 1, 4, 1, 3, 1, 3, 4, 3, 3, 0, 4, 2, 0, 0, 2, 1, 4, 0, 1, 0, 4, 1, 1, 3, 4, 1, 2, 3, 3, 2, 0, 4, 1, 3, 4, 1, 4, 0, 3, 2, 0, 4, 2, 3, 1, 2, 1, 2, 2, 1, 2, 1, 2, 0, 3, 4, 1, 0, 4, 2, 1, 2, 0, 2, 4, 2, 0, 1, 2, 2, 4, 2, 3, 1, 4, 3, 1, 4, 0, 3, 0, 1, 0, 1, 0, 3, 0, 2, 0, 0, 2, 0, 4, 2, 0, 1, 4, 2, 2, 4, 0, 0, 1, 3, 0, 0, 0, 2, 1, 2, 0, 4, 0, 0, 3, 2, 3, 4, 0, 0, 1, 4, 0, 1, 3, 1, 1, 1, 4, 1, 2, 0, 0, 0, 1, 4, 3, 3, 2, 2, 3, 0, 0, 2, 3, 0, 0, 4, 0, 0, 4, 0, 2, 1, 1, 0, 3, 0, 0, 3, 0, 0, 4, 1, 2, 1, 4, 1, 4, 2, 3, 4, 1, 2, 1, 4, 4, 0, 4, 4, 2, 3, 2, 2, 0, 1, 3, 1, 3, 1, 3, 2, 3, 0, 4, 0, 4, 1, 4, 2, 2, 0, 1, 2, 1, 2, 4, 4, 4, 4, 1, 0, 2, 4, 0, 3, 2, 0, 0, 3, 2, 2, 1, 3, 1, 2, 1, 1, 3, 2, 2, 3, 0, 3, 3, 0, 2, 0, 1, 0, 4, 3, 4, 1, 0, 2, 3, 1, 0, 3, 4, 4, 3, 3, 1, 2, 0, 0, 3, 4, 4, 4, 1, 0, 4, 3, 1, 2, 3, 1, 0, 3, 2, 3, 3, 2, 4, 1, 4, 3, 2, 2, 0, 2, 4, 3, 4, 3, 2, 4, 2, 4, 1, 2, 3, 1, 2, 3, 4, 4, 1, 1, 2, 3, 2, 1, 2, 3, 4, 0, 4, 0, 2, 0, 3, 4, 0, 2, 1, 2, 1, 1, 4, 0, 1, 0, 4, 3, 3, 1, 1, 0, 2, 4, 3, 1, 0, 0, 3, 0, 2, 2, 0, 2, 0, 2, 0, 0, 3, 4, 4, 4, 2, 2, 4, 2, 3, 2, 2, 4, 1, 4, 2, 3, 1, 2, 4, 1, 2, 1, 1, 0, 2, 3, 3, 4, 0, 1, 0, 2, 2, 0, 0, 3, 0, 3, 4, 4, 1, 1, 3, 2, 2, 2, 2, 1, 2, 3, 2, 2, 1, 4, 4, 1, 3, 1, 4, 3, 2, 3, 0, 4, 3, 1, 3, 1, 4, 1, 2, 1, 0, 2, 1, 2, 1, 1, 3, 4, 0, 3, 1, 2, 2, 3, 2, 1, 3, 1, 0, 0, 2, 4, 4, 2, 1, 2, 1, 0, 2, 0, 1, 1, 4, 1, 1, 4, 3, 2, 3, 1, 3, 0, 0, 3, 2, 3, 4, 3, 0, 4, 4, 1, 1, 0, 3, 0, 4, 4, 3, 0, 4, 4, 0, 1, 0, 1, 3, 0, 0, 1, 0, 1, 1, 3, 0, 1, 0, 3, 4, 2, 3, 4, 3, 4, 3, 0, 1, 2, 0, 2, 3, 0, 0, 1, 4, 4, 4, 0, 0, 1, 2, 3, 3, 1, 0, 1, 4]\n"
     ]
    }
   ],
   "source": [
    "y_true=[]\n",
    "for i in range(len(y_test)):\n",
    "    y_true.append(np.argmax(y_test[i]))\n",
    "print(y_true)"
   ]
  },
  {
   "cell_type": "markdown",
   "id": "e3e3d850",
   "metadata": {},
   "source": [
    "### Result analysis"
   ]
  },
  {
   "cell_type": "code",
   "execution_count": 18,
   "id": "6da58bd0",
   "metadata": {},
   "outputs": [],
   "source": [
    "class_labels=['normal', 'dos', 'r2l', 'probe', 'u2r']"
   ]
  },
  {
   "cell_type": "markdown",
   "id": "aa050d54",
   "metadata": {},
   "source": [
    "<h6 style=\"font-family:san-serif;font-size:20px;color:black;font-weight:bold;text-align:left\">Accuracy Score</h6>"
   ]
  },
  {
   "cell_type": "code",
   "execution_count": 19,
   "id": "a33990f5",
   "metadata": {},
   "outputs": [
    {
     "name": "stdout",
     "output_type": "stream",
     "text": [
      "ConvolutionalLongShortTermMemory model's Validation accuracy is 97.58%\n"
     ]
    }
   ],
   "source": [
    "model_accuracy=accuracy_score(y_true=y_true,y_pred=pred)\n",
    "print(\"ConvolutionalLongShortTermMemory model's Validation accuracy is {:.2f}%\".format(model_accuracy*100))"
   ]
  },
  {
   "cell_type": "markdown",
   "id": "34508ef7",
   "metadata": {},
   "source": [
    "<h6 style=\"font-family:san-serif;font-size:20px;color:black;font-weight:bold;text-align:left\">Classification Report</h6>"
   ]
  },
  {
   "cell_type": "code",
   "execution_count": 20,
   "id": "85b6f863",
   "metadata": {},
   "outputs": [
    {
     "name": "stdout",
     "output_type": "stream",
     "text": [
      "              precision    recall  f1-score   support\n",
      "\n",
      "      normal       0.97      0.96      0.97      1000\n",
      "         dos       1.00      1.00      1.00      1000\n",
      "         r2l       0.94      0.98      0.96      1000\n",
      "       probe       0.99      1.00      1.00      1000\n",
      "         u2r       0.98      0.94      0.96      1000\n",
      "\n",
      "    accuracy                           0.98      5000\n",
      "   macro avg       0.98      0.98      0.98      5000\n",
      "weighted avg       0.98      0.98      0.98      5000\n",
      "\n"
     ]
    }
   ],
   "source": [
    "print(classification_report(y_true=y_true,y_pred=pred, target_names=class_labels))"
   ]
  },
  {
   "cell_type": "markdown",
   "id": "7c654d53",
   "metadata": {},
   "source": [
    "<h6 style=\"font-family:san-serif;font-size:20px;color:black;font-weight:bold;text-align:left\">Confusion Matrix</h6>"
   ]
  },
  {
   "cell_type": "code",
   "execution_count": 21,
   "id": "e2be5d07",
   "metadata": {},
   "outputs": [
    {
     "data": {
      "image/png": "[encoded data removed]",
      "text/plain": [
       "<Figure size 360x360 with 1 Axes>"
      ]
     },
     "metadata": {
      "needs_background": "light"
     },
     "output_type": "display_data"
    }
   ],
   "source": [
    "plt.figure(figsize=(5,5))\n",
    "ax=sns.heatmap(data=confusion_matrix(y_true=y_true,y_pred=pred),\n",
    "              annot=True,\n",
    "              fmt='4d',\n",
    "              cbar=False,\n",
    "              cmap=plt.cm.Blues,\n",
    "              xticklabels=class_labels,\n",
    "              yticklabels=class_labels)\n",
    "plt.title(label=\"ConvolutionalLongShortTermMemory confusion matrix\")\n",
    "plt.show()"
   ]
  },
  {
   "cell_type": "markdown",
   "id": "9c0ceeaf",
   "metadata": {},
   "source": [
    "<h6 style=\"font-family:san-serif;font-size:20px;color:black;font-weight:bold;text-align:left\">Model Saving</h6>"
   ]
  },
  {
   "cell_type": "code",
   "execution_count": 22,
   "id": "78f489a2",
   "metadata": {},
   "outputs": [],
   "source": [
    "model.save(\"models/ConvolutionalLongShortTermMemory_model.h5\")"
   ]
  },
  {
   "cell_type": "markdown",
   "id": "7fa0bcba",
   "metadata": {},
   "source": [
    "---"
   ]
  }
 ],
 "metadata": {
  "kernelspec": {
   "display_name": "Python 3 (ipykernel)",
   "language": "python",
   "name": "python3"
  },
  "language_info": {
   "codemirror_mode": {
    "name": "ipython",
    "version": 3
   },
   "file_extension": ".py",
   "mimetype": "text/x-python",
   "name": "python",
   "nbconvert_exporter": "python",
   "pygments_lexer": "ipython3",
   "version": "3.9.7"
  }
 },
 "nbformat": 4,
 "nbformat_minor": 5
}
